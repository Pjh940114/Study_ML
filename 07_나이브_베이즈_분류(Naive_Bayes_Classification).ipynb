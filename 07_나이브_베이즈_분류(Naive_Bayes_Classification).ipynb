{
  "nbformat": 4,
  "nbformat_minor": 0,
  "metadata": {
    "colab": {
      "name": "07 나이브 베이즈 분류(Naive Bayes Classification).ipynb",
      "provenance": [],
      "collapsed_sections": [],
      "toc_visible": true,
      "include_colab_link": true
    },
    "kernelspec": {
      "name": "python3",
      "display_name": "Python 3"
    }
  },
  "cells": [
    {
      "cell_type": "markdown",
      "metadata": {
        "id": "view-in-github",
        "colab_type": "text"
      },
      "source": [
        "<a href=\"https://colab.research.google.com/github/Pjh940114/Study_ML/blob/main/07_%EB%82%98%EC%9D%B4%EB%B8%8C_%EB%B2%A0%EC%9D%B4%EC%A6%88_%EB%B6%84%EB%A5%98(Naive_Bayes_Classification).ipynb\" target=\"_parent\"><img src=\"https://colab.research.google.com/assets/colab-badge.svg\" alt=\"Open In Colab\"/></a>"
      ]
    },
    {
      "cell_type": "markdown",
      "metadata": {
        "id": "pGeRH4wq9f5V"
      },
      "source": [
        "# 나이브 베이스 분류기(Naive Bayes Classification)\n",
        "\n",
        "* 베이즈 정리를 적용한 확률적 분류 알고리즘\n",
        "* 모든 특성들이 독립임을 가정 (naive 가정)\n",
        "* 입력 특성에 따라 3개의 분류기 존재\n",
        "  * 가우시안 나이브 베이즈 분류기\n",
        "  * 베르누이 나이브 베이즈 분류기\n",
        "  * 다항 나이브 베이즈 분류기"
      ]
    },
    {
      "cell_type": "markdown",
      "metadata": {
        "id": "dJEOfUP7D0W5"
      },
      "source": [
        "## 나이브 베이즈 분류기의 확률 모델\n",
        "\n",
        "* 나이브 베이즈는 조건부 확률 모델\n",
        "* *N*개의 특성을 나타내는 벡터 **x**를 입력 받아 k개의 가능한 확률적 결과를 출력\n",
        "\n",
        "\\begin{equation}\n",
        "p(C_k | x_1,...,x_n)\n",
        "\\end{equation}\n",
        "\n",
        "* 위의 식에 베이즈 정리를 적용하면 다음과 같음\n",
        "\n",
        "\\begin{equation}\n",
        "p(C_k | \\textbf{x}) = \\frac{p(C_k)p(\\textbf{x}|C_k)}{p(\\textbf{x})}\n",
        "\\end{equation}\n",
        "\n",
        "* 위의 식에서 분자만이 출력 값에 영향을 받기 때문에 분모 부분을 상수로 취급할 수 있음\n",
        "\n",
        "\\begin{equation}\n",
        "\\begin{split}\n",
        "p(C_k | \\textbf{x}) & \\propto p(C_k)p(\\textbf{x}|C_k) \\\\\n",
        "& \\propto p(C_k, x_1, ..., x_n)\n",
        "\\end{split}\n",
        "\\end{equation}\n",
        "\n",
        "* 위의 식을 연쇄 법칙을 사용해 다음과 같이 쓸 수 있음\n",
        "\n",
        "\\begin{equation}\n",
        "\\begin{split}\n",
        "p(C_k, x_1, ..., x_n) & = p(C_k)p(x_1, ..., x_n | C_k) \\\\\n",
        "& = p(C_k)p(x_1 | C_k)p(x_2, ..., x_n | C_k, x_1) \\\\\n",
        "& = p(C_k)p(x_1 | C_k)p(x_2 | C_k, x_1)p(x_3, ..., x_n | C_k, x_1, x_2) \\\\\n",
        "& = p(C_k)p(x_1 | C_k)p(x_2 | C_k, x_1)...p(x_n | C_k, x_1, x_2, ..., x_{n-1})\n",
        "\\end{split}\n",
        "\\end{equation}\n",
        "\n",
        "* 나이브 베이즈 분류기는 모든 특성이 독립이라고 가정하기 때문에 위의 식을 다음과 같이 쓸 수 있음\n",
        "\n",
        "\\begin{equation}\n",
        "\\begin{split}\n",
        "p(C_k, x_1, ..., x_n) & \\propto p(C_k)p(x_1|C_k)p(x_2|C_k)...p(x_n|C_k) \\\\\n",
        "& \\propto p(C_k) \\prod_{i=1}^{n} p(x_i|C_k)\n",
        "\\end{split}\n",
        "\\end{equation}\n",
        "\n",
        "* 위의 식을 통해 나온 값들 중 가장 큰 값을 갖는 클래스가 예측 결과\n",
        "\n",
        "\\begin{equation}\n",
        "\\hat{y} = \\underset{k}{\\arg\\max} \\; p(C_k) \\prod_{i=1}^{n} p(x_i|C_k)\n",
        "\\end{equation}"
      ]
    },
    {
      "cell_type": "code",
      "metadata": {
        "id": "YWMJk5Q6QRjt"
      },
      "source": [
        "import numpy as np\n",
        "import pandas as pd\n",
        "\n",
        "from sklearn.naive_bayes import GaussianNB, BernoulliNB, MultinomialNB\n",
        "from sklearn.datasets import fetch_covtype, fetch_20newsgroups\n",
        "from sklearn.model_selection import train_test_split\n",
        "from sklearn.preprocessing import StandardScaler, MinMaxScaler\n",
        "from sklearn.feature_extraction.text import CountVectorizer, HashingVectorizer, TfidfVectorizer\n",
        "from sklearn import metrics"
      ],
      "execution_count": null,
      "outputs": []
    },
    {
      "cell_type": "code",
      "metadata": {
        "id": "niugbwwe9dFN",
        "colab": {
          "base_uri": "https://localhost:8080/"
        },
        "outputId": "08d538ee-afa8-47b3-b992-d66255e17d33"
      },
      "source": [
        "prior = [0.45, 0.3, 0.15, 0.1]\n",
        "likelihood = [[0.3, 0.3, 0.4], [0.7, 0.2, 0.1], [0.15, 0.5, 0.35], [06., 0.2, 0.2]]\n",
        "\n",
        "idx = 0\n",
        "for c, xs in zip(prior, likelihood):\n",
        "  result = 1.\n",
        "\n",
        "  for x in xs:\n",
        "    result *= x\n",
        "  result *= c\n",
        "\n",
        "  idx += 1\n",
        "  print(f\"{idx} 번째 클래스의 가능성 : {result}\")"
      ],
      "execution_count": null,
      "outputs": [
        {
          "output_type": "stream",
          "name": "stdout",
          "text": [
            "1 번째 클래스의 가능성 : 0.0162\n",
            "2 번째 클래스의 가능성 : 0.0042\n",
            "3 번째 클래스의 가능성 : 0.0039375\n",
            "4 번째 클래스의 가능성 : 0.024000000000000007\n"
          ]
        }
      ]
    },
    {
      "cell_type": "markdown",
      "metadata": {
        "id": "m7NBQpMOmtQz"
      },
      "source": [
        "## 산림 토양 데이터\n",
        "* 산림 지역 토양의 특징 데이터\n",
        "* 토양이 어떤 종류에 속하는지 예측\n",
        "* https://archive.ics.uci.edu/ml/datasets/Covertype 에서 데이터의 자세한 설명 확인 가능"
      ]
    },
    {
      "cell_type": "code",
      "metadata": {
        "id": "COcEy-q-m8CG",
        "colab": {
          "base_uri": "https://localhost:8080/"
        },
        "outputId": "27a5fcea-558a-4ef8-e68b-353fad97879d"
      },
      "source": [
        "covtype = fetch_covtype()\n",
        "print(covtype.DESCR)"
      ],
      "execution_count": null,
      "outputs": [
        {
          "output_type": "stream",
          "name": "stdout",
          "text": [
            ".. _covtype_dataset:\n",
            "\n",
            "Forest covertypes\n",
            "-----------------\n",
            "\n",
            "The samples in this dataset correspond to 30×30m patches of forest in the US,\n",
            "collected for the task of predicting each patch's cover type,\n",
            "i.e. the dominant species of tree.\n",
            "There are seven covertypes, making this a multiclass classification problem.\n",
            "Each sample has 54 features, described on the\n",
            "`dataset's homepage <https://archive.ics.uci.edu/ml/datasets/Covertype>`__.\n",
            "Some of the features are boolean indicators,\n",
            "while others are discrete or continuous measurements.\n",
            "\n",
            "**Data Set Characteristics:**\n",
            "\n",
            "    =================   ============\n",
            "    Classes                        7\n",
            "    Samples total             581012\n",
            "    Dimensionality                54\n",
            "    Features                     int\n",
            "    =================   ============\n",
            "\n",
            ":func:`sklearn.datasets.fetch_covtype` will load the covertype dataset;\n",
            "it returns a dictionary-like 'Bunch' object\n",
            "with the feature matrix in the ``data`` member\n",
            "and the target values in ``target``. If optional argument 'as_frame' is\n",
            "set to 'True', it will return ``data`` and ``target`` as pandas\n",
            "data frame, and there will be an additional member ``frame`` as well.\n",
            "The dataset will be downloaded from the web if necessary.\n",
            "\n"
          ]
        }
      ]
    },
    {
      "cell_type": "code",
      "metadata": {
        "id": "AKdk8dfyKH1Z",
        "colab": {
          "base_uri": "https://localhost:8080/",
          "height": 488
        },
        "outputId": "f7ed17e3-d2a0-4a22-889f-8ed9fe245283"
      },
      "source": [
        "pd.DataFrame(covtype.data)"
      ],
      "execution_count": null,
      "outputs": [
        {
          "output_type": "execute_result",
          "data": {
            "text/plain": [
              "            0      1     2      3      4       5      6      7      8   \\\n",
              "0       2596.0   51.0   3.0  258.0    0.0   510.0  221.0  232.0  148.0   \n",
              "1       2590.0   56.0   2.0  212.0   -6.0   390.0  220.0  235.0  151.0   \n",
              "2       2804.0  139.0   9.0  268.0   65.0  3180.0  234.0  238.0  135.0   \n",
              "3       2785.0  155.0  18.0  242.0  118.0  3090.0  238.0  238.0  122.0   \n",
              "4       2595.0   45.0   2.0  153.0   -1.0   391.0  220.0  234.0  150.0   \n",
              "...        ...    ...   ...    ...    ...     ...    ...    ...    ...   \n",
              "581007  2396.0  153.0  20.0   85.0   17.0   108.0  240.0  237.0  118.0   \n",
              "581008  2391.0  152.0  19.0   67.0   12.0    95.0  240.0  237.0  119.0   \n",
              "581009  2386.0  159.0  17.0   60.0    7.0    90.0  236.0  241.0  130.0   \n",
              "581010  2384.0  170.0  15.0   60.0    5.0    90.0  230.0  245.0  143.0   \n",
              "581011  2383.0  165.0  13.0   60.0    4.0    67.0  231.0  244.0  141.0   \n",
              "\n",
              "            9   ...   44   45   46   47   48   49   50   51   52   53  \n",
              "0       6279.0  ...  0.0  0.0  0.0  0.0  0.0  0.0  0.0  0.0  0.0  0.0  \n",
              "1       6225.0  ...  0.0  0.0  0.0  0.0  0.0  0.0  0.0  0.0  0.0  0.0  \n",
              "2       6121.0  ...  0.0  0.0  0.0  0.0  0.0  0.0  0.0  0.0  0.0  0.0  \n",
              "3       6211.0  ...  0.0  0.0  0.0  0.0  0.0  0.0  0.0  0.0  0.0  0.0  \n",
              "4       6172.0  ...  0.0  0.0  0.0  0.0  0.0  0.0  0.0  0.0  0.0  0.0  \n",
              "...        ...  ...  ...  ...  ...  ...  ...  ...  ...  ...  ...  ...  \n",
              "581007   837.0  ...  0.0  0.0  0.0  0.0  0.0  0.0  0.0  0.0  0.0  0.0  \n",
              "581008   845.0  ...  0.0  0.0  0.0  0.0  0.0  0.0  0.0  0.0  0.0  0.0  \n",
              "581009   854.0  ...  0.0  0.0  0.0  0.0  0.0  0.0  0.0  0.0  0.0  0.0  \n",
              "581010   864.0  ...  0.0  0.0  0.0  0.0  0.0  0.0  0.0  0.0  0.0  0.0  \n",
              "581011   875.0  ...  0.0  0.0  0.0  0.0  0.0  0.0  0.0  0.0  0.0  0.0  \n",
              "\n",
              "[581012 rows x 54 columns]"
            ],
            "text/html": [
              "\n",
              "  <div id=\"df-47320aaf-cedb-4342-a7e1-168a9061a573\">\n",
              "    <div class=\"colab-df-container\">\n",
              "      <div>\n",
              "<style scoped>\n",
              "    .dataframe tbody tr th:only-of-type {\n",
              "        vertical-align: middle;\n",
              "    }\n",
              "\n",
              "    .dataframe tbody tr th {\n",
              "        vertical-align: top;\n",
              "    }\n",
              "\n",
              "    .dataframe thead th {\n",
              "        text-align: right;\n",
              "    }\n",
              "</style>\n",
              "<table border=\"1\" class=\"dataframe\">\n",
              "  <thead>\n",
              "    <tr style=\"text-align: right;\">\n",
              "      <th></th>\n",
              "      <th>0</th>\n",
              "      <th>1</th>\n",
              "      <th>2</th>\n",
              "      <th>3</th>\n",
              "      <th>4</th>\n",
              "      <th>5</th>\n",
              "      <th>6</th>\n",
              "      <th>7</th>\n",
              "      <th>8</th>\n",
              "      <th>9</th>\n",
              "      <th>...</th>\n",
              "      <th>44</th>\n",
              "      <th>45</th>\n",
              "      <th>46</th>\n",
              "      <th>47</th>\n",
              "      <th>48</th>\n",
              "      <th>49</th>\n",
              "      <th>50</th>\n",
              "      <th>51</th>\n",
              "      <th>52</th>\n",
              "      <th>53</th>\n",
              "    </tr>\n",
              "  </thead>\n",
              "  <tbody>\n",
              "    <tr>\n",
              "      <th>0</th>\n",
              "      <td>2596.0</td>\n",
              "      <td>51.0</td>\n",
              "      <td>3.0</td>\n",
              "      <td>258.0</td>\n",
              "      <td>0.0</td>\n",
              "      <td>510.0</td>\n",
              "      <td>221.0</td>\n",
              "      <td>232.0</td>\n",
              "      <td>148.0</td>\n",
              "      <td>6279.0</td>\n",
              "      <td>...</td>\n",
              "      <td>0.0</td>\n",
              "      <td>0.0</td>\n",
              "      <td>0.0</td>\n",
              "      <td>0.0</td>\n",
              "      <td>0.0</td>\n",
              "      <td>0.0</td>\n",
              "      <td>0.0</td>\n",
              "      <td>0.0</td>\n",
              "      <td>0.0</td>\n",
              "      <td>0.0</td>\n",
              "    </tr>\n",
              "    <tr>\n",
              "      <th>1</th>\n",
              "      <td>2590.0</td>\n",
              "      <td>56.0</td>\n",
              "      <td>2.0</td>\n",
              "      <td>212.0</td>\n",
              "      <td>-6.0</td>\n",
              "      <td>390.0</td>\n",
              "      <td>220.0</td>\n",
              "      <td>235.0</td>\n",
              "      <td>151.0</td>\n",
              "      <td>6225.0</td>\n",
              "      <td>...</td>\n",
              "      <td>0.0</td>\n",
              "      <td>0.0</td>\n",
              "      <td>0.0</td>\n",
              "      <td>0.0</td>\n",
              "      <td>0.0</td>\n",
              "      <td>0.0</td>\n",
              "      <td>0.0</td>\n",
              "      <td>0.0</td>\n",
              "      <td>0.0</td>\n",
              "      <td>0.0</td>\n",
              "    </tr>\n",
              "    <tr>\n",
              "      <th>2</th>\n",
              "      <td>2804.0</td>\n",
              "      <td>139.0</td>\n",
              "      <td>9.0</td>\n",
              "      <td>268.0</td>\n",
              "      <td>65.0</td>\n",
              "      <td>3180.0</td>\n",
              "      <td>234.0</td>\n",
              "      <td>238.0</td>\n",
              "      <td>135.0</td>\n",
              "      <td>6121.0</td>\n",
              "      <td>...</td>\n",
              "      <td>0.0</td>\n",
              "      <td>0.0</td>\n",
              "      <td>0.0</td>\n",
              "      <td>0.0</td>\n",
              "      <td>0.0</td>\n",
              "      <td>0.0</td>\n",
              "      <td>0.0</td>\n",
              "      <td>0.0</td>\n",
              "      <td>0.0</td>\n",
              "      <td>0.0</td>\n",
              "    </tr>\n",
              "    <tr>\n",
              "      <th>3</th>\n",
              "      <td>2785.0</td>\n",
              "      <td>155.0</td>\n",
              "      <td>18.0</td>\n",
              "      <td>242.0</td>\n",
              "      <td>118.0</td>\n",
              "      <td>3090.0</td>\n",
              "      <td>238.0</td>\n",
              "      <td>238.0</td>\n",
              "      <td>122.0</td>\n",
              "      <td>6211.0</td>\n",
              "      <td>...</td>\n",
              "      <td>0.0</td>\n",
              "      <td>0.0</td>\n",
              "      <td>0.0</td>\n",
              "      <td>0.0</td>\n",
              "      <td>0.0</td>\n",
              "      <td>0.0</td>\n",
              "      <td>0.0</td>\n",
              "      <td>0.0</td>\n",
              "      <td>0.0</td>\n",
              "      <td>0.0</td>\n",
              "    </tr>\n",
              "    <tr>\n",
              "      <th>4</th>\n",
              "      <td>2595.0</td>\n",
              "      <td>45.0</td>\n",
              "      <td>2.0</td>\n",
              "      <td>153.0</td>\n",
              "      <td>-1.0</td>\n",
              "      <td>391.0</td>\n",
              "      <td>220.0</td>\n",
              "      <td>234.0</td>\n",
              "      <td>150.0</td>\n",
              "      <td>6172.0</td>\n",
              "      <td>...</td>\n",
              "      <td>0.0</td>\n",
              "      <td>0.0</td>\n",
              "      <td>0.0</td>\n",
              "      <td>0.0</td>\n",
              "      <td>0.0</td>\n",
              "      <td>0.0</td>\n",
              "      <td>0.0</td>\n",
              "      <td>0.0</td>\n",
              "      <td>0.0</td>\n",
              "      <td>0.0</td>\n",
              "    </tr>\n",
              "    <tr>\n",
              "      <th>...</th>\n",
              "      <td>...</td>\n",
              "      <td>...</td>\n",
              "      <td>...</td>\n",
              "      <td>...</td>\n",
              "      <td>...</td>\n",
              "      <td>...</td>\n",
              "      <td>...</td>\n",
              "      <td>...</td>\n",
              "      <td>...</td>\n",
              "      <td>...</td>\n",
              "      <td>...</td>\n",
              "      <td>...</td>\n",
              "      <td>...</td>\n",
              "      <td>...</td>\n",
              "      <td>...</td>\n",
              "      <td>...</td>\n",
              "      <td>...</td>\n",
              "      <td>...</td>\n",
              "      <td>...</td>\n",
              "      <td>...</td>\n",
              "      <td>...</td>\n",
              "    </tr>\n",
              "    <tr>\n",
              "      <th>581007</th>\n",
              "      <td>2396.0</td>\n",
              "      <td>153.0</td>\n",
              "      <td>20.0</td>\n",
              "      <td>85.0</td>\n",
              "      <td>17.0</td>\n",
              "      <td>108.0</td>\n",
              "      <td>240.0</td>\n",
              "      <td>237.0</td>\n",
              "      <td>118.0</td>\n",
              "      <td>837.0</td>\n",
              "      <td>...</td>\n",
              "      <td>0.0</td>\n",
              "      <td>0.0</td>\n",
              "      <td>0.0</td>\n",
              "      <td>0.0</td>\n",
              "      <td>0.0</td>\n",
              "      <td>0.0</td>\n",
              "      <td>0.0</td>\n",
              "      <td>0.0</td>\n",
              "      <td>0.0</td>\n",
              "      <td>0.0</td>\n",
              "    </tr>\n",
              "    <tr>\n",
              "      <th>581008</th>\n",
              "      <td>2391.0</td>\n",
              "      <td>152.0</td>\n",
              "      <td>19.0</td>\n",
              "      <td>67.0</td>\n",
              "      <td>12.0</td>\n",
              "      <td>95.0</td>\n",
              "      <td>240.0</td>\n",
              "      <td>237.0</td>\n",
              "      <td>119.0</td>\n",
              "      <td>845.0</td>\n",
              "      <td>...</td>\n",
              "      <td>0.0</td>\n",
              "      <td>0.0</td>\n",
              "      <td>0.0</td>\n",
              "      <td>0.0</td>\n",
              "      <td>0.0</td>\n",
              "      <td>0.0</td>\n",
              "      <td>0.0</td>\n",
              "      <td>0.0</td>\n",
              "      <td>0.0</td>\n",
              "      <td>0.0</td>\n",
              "    </tr>\n",
              "    <tr>\n",
              "      <th>581009</th>\n",
              "      <td>2386.0</td>\n",
              "      <td>159.0</td>\n",
              "      <td>17.0</td>\n",
              "      <td>60.0</td>\n",
              "      <td>7.0</td>\n",
              "      <td>90.0</td>\n",
              "      <td>236.0</td>\n",
              "      <td>241.0</td>\n",
              "      <td>130.0</td>\n",
              "      <td>854.0</td>\n",
              "      <td>...</td>\n",
              "      <td>0.0</td>\n",
              "      <td>0.0</td>\n",
              "      <td>0.0</td>\n",
              "      <td>0.0</td>\n",
              "      <td>0.0</td>\n",
              "      <td>0.0</td>\n",
              "      <td>0.0</td>\n",
              "      <td>0.0</td>\n",
              "      <td>0.0</td>\n",
              "      <td>0.0</td>\n",
              "    </tr>\n",
              "    <tr>\n",
              "      <th>581010</th>\n",
              "      <td>2384.0</td>\n",
              "      <td>170.0</td>\n",
              "      <td>15.0</td>\n",
              "      <td>60.0</td>\n",
              "      <td>5.0</td>\n",
              "      <td>90.0</td>\n",
              "      <td>230.0</td>\n",
              "      <td>245.0</td>\n",
              "      <td>143.0</td>\n",
              "      <td>864.0</td>\n",
              "      <td>...</td>\n",
              "      <td>0.0</td>\n",
              "      <td>0.0</td>\n",
              "      <td>0.0</td>\n",
              "      <td>0.0</td>\n",
              "      <td>0.0</td>\n",
              "      <td>0.0</td>\n",
              "      <td>0.0</td>\n",
              "      <td>0.0</td>\n",
              "      <td>0.0</td>\n",
              "      <td>0.0</td>\n",
              "    </tr>\n",
              "    <tr>\n",
              "      <th>581011</th>\n",
              "      <td>2383.0</td>\n",
              "      <td>165.0</td>\n",
              "      <td>13.0</td>\n",
              "      <td>60.0</td>\n",
              "      <td>4.0</td>\n",
              "      <td>67.0</td>\n",
              "      <td>231.0</td>\n",
              "      <td>244.0</td>\n",
              "      <td>141.0</td>\n",
              "      <td>875.0</td>\n",
              "      <td>...</td>\n",
              "      <td>0.0</td>\n",
              "      <td>0.0</td>\n",
              "      <td>0.0</td>\n",
              "      <td>0.0</td>\n",
              "      <td>0.0</td>\n",
              "      <td>0.0</td>\n",
              "      <td>0.0</td>\n",
              "      <td>0.0</td>\n",
              "      <td>0.0</td>\n",
              "      <td>0.0</td>\n",
              "    </tr>\n",
              "  </tbody>\n",
              "</table>\n",
              "<p>581012 rows × 54 columns</p>\n",
              "</div>\n",
              "      <button class=\"colab-df-convert\" onclick=\"convertToInteractive('df-47320aaf-cedb-4342-a7e1-168a9061a573')\"\n",
              "              title=\"Convert this dataframe to an interactive table.\"\n",
              "              style=\"display:none;\">\n",
              "        \n",
              "  <svg xmlns=\"http://www.w3.org/2000/svg\" height=\"24px\"viewBox=\"0 0 24 24\"\n",
              "       width=\"24px\">\n",
              "    <path d=\"M0 0h24v24H0V0z\" fill=\"none\"/>\n",
              "    <path d=\"M18.56 5.44l.94 2.06.94-2.06 2.06-.94-2.06-.94-.94-2.06-.94 2.06-2.06.94zm-11 1L8.5 8.5l.94-2.06 2.06-.94-2.06-.94L8.5 2.5l-.94 2.06-2.06.94zm10 10l.94 2.06.94-2.06 2.06-.94-2.06-.94-.94-2.06-.94 2.06-2.06.94z\"/><path d=\"M17.41 7.96l-1.37-1.37c-.4-.4-.92-.59-1.43-.59-.52 0-1.04.2-1.43.59L10.3 9.45l-7.72 7.72c-.78.78-.78 2.05 0 2.83L4 21.41c.39.39.9.59 1.41.59.51 0 1.02-.2 1.41-.59l7.78-7.78 2.81-2.81c.8-.78.8-2.07 0-2.86zM5.41 20L4 18.59l7.72-7.72 1.47 1.35L5.41 20z\"/>\n",
              "  </svg>\n",
              "      </button>\n",
              "      \n",
              "  <style>\n",
              "    .colab-df-container {\n",
              "      display:flex;\n",
              "      flex-wrap:wrap;\n",
              "      gap: 12px;\n",
              "    }\n",
              "\n",
              "    .colab-df-convert {\n",
              "      background-color: #E8F0FE;\n",
              "      border: none;\n",
              "      border-radius: 50%;\n",
              "      cursor: pointer;\n",
              "      display: none;\n",
              "      fill: #1967D2;\n",
              "      height: 32px;\n",
              "      padding: 0 0 0 0;\n",
              "      width: 32px;\n",
              "    }\n",
              "\n",
              "    .colab-df-convert:hover {\n",
              "      background-color: #E2EBFA;\n",
              "      box-shadow: 0px 1px 2px rgba(60, 64, 67, 0.3), 0px 1px 3px 1px rgba(60, 64, 67, 0.15);\n",
              "      fill: #174EA6;\n",
              "    }\n",
              "\n",
              "    [theme=dark] .colab-df-convert {\n",
              "      background-color: #3B4455;\n",
              "      fill: #D2E3FC;\n",
              "    }\n",
              "\n",
              "    [theme=dark] .colab-df-convert:hover {\n",
              "      background-color: #434B5C;\n",
              "      box-shadow: 0px 1px 3px 1px rgba(0, 0, 0, 0.15);\n",
              "      filter: drop-shadow(0px 1px 2px rgba(0, 0, 0, 0.3));\n",
              "      fill: #FFFFFF;\n",
              "    }\n",
              "  </style>\n",
              "\n",
              "      <script>\n",
              "        const buttonEl =\n",
              "          document.querySelector('#df-47320aaf-cedb-4342-a7e1-168a9061a573 button.colab-df-convert');\n",
              "        buttonEl.style.display =\n",
              "          google.colab.kernel.accessAllowed ? 'block' : 'none';\n",
              "\n",
              "        async function convertToInteractive(key) {\n",
              "          const element = document.querySelector('#df-47320aaf-cedb-4342-a7e1-168a9061a573');\n",
              "          const dataTable =\n",
              "            await google.colab.kernel.invokeFunction('convertToInteractive',\n",
              "                                                     [key], {});\n",
              "          if (!dataTable) return;\n",
              "\n",
              "          const docLinkHtml = 'Like what you see? Visit the ' +\n",
              "            '<a target=\"_blank\" href=https://colab.research.google.com/notebooks/data_table.ipynb>data table notebook</a>'\n",
              "            + ' to learn more about interactive tables.';\n",
              "          element.innerHTML = '';\n",
              "          dataTable['output_type'] = 'display_data';\n",
              "          await google.colab.output.renderOutput(dataTable, element);\n",
              "          const docLink = document.createElement('div');\n",
              "          docLink.innerHTML = docLinkHtml;\n",
              "          element.appendChild(docLink);\n",
              "        }\n",
              "      </script>\n",
              "    </div>\n",
              "  </div>\n",
              "  "
            ]
          },
          "metadata": {},
          "execution_count": 88
        }
      ]
    },
    {
      "cell_type": "code",
      "metadata": {
        "id": "6K8fuWT2LRev",
        "colab": {
          "base_uri": "https://localhost:8080/"
        },
        "outputId": "8e59842b-5648-4265-e52f-617baa106c7e"
      },
      "source": [
        "covtype.target"
      ],
      "execution_count": null,
      "outputs": [
        {
          "output_type": "execute_result",
          "data": {
            "text/plain": [
              "array([5, 5, 2, ..., 3, 3, 3], dtype=int32)"
            ]
          },
          "metadata": {},
          "execution_count": 89
        }
      ]
    },
    {
      "cell_type": "markdown",
      "metadata": {
        "id": "W3oFEYsFmzAo"
      },
      "source": [
        "### 학습, 평가 데이터 분류"
      ]
    },
    {
      "cell_type": "code",
      "metadata": {
        "id": "LXRNok95nZyL"
      },
      "source": [
        "covtype_X = covtype.data\n",
        "covtype_y = covtype.target"
      ],
      "execution_count": null,
      "outputs": []
    },
    {
      "cell_type": "code",
      "metadata": {
        "id": "PcPjkEKKoAG0"
      },
      "source": [
        "covtype_X_train, covtype_X_test, covtype_y_train, covtype_y_test = train_test_split(covtype_X, covtype_y, test_size = 0.2)"
      ],
      "execution_count": null,
      "outputs": []
    },
    {
      "cell_type": "code",
      "metadata": {
        "id": "FIHN4Zd1MRlm",
        "colab": {
          "base_uri": "https://localhost:8080/"
        },
        "outputId": "0e185baa-c214-4657-8600-c2aca1d7aeb0"
      },
      "source": [
        "print(\"전체 데이터 크기 : {}\".format(covtype_X.shape))\n",
        "print(\"학습 데이터 크기 : {}\".format(covtype_X_train.shape))\n",
        "print(\"평가 데이터 크기 : {}\".format(covtype_X_test.shape))"
      ],
      "execution_count": null,
      "outputs": [
        {
          "output_type": "stream",
          "name": "stdout",
          "text": [
            "전체 데이터 크기 : (581012, 54)\n",
            "학습 데이터 크기 : (464809, 54)\n",
            "평가 데이터 크기 : (116203, 54)\n"
          ]
        }
      ]
    },
    {
      "cell_type": "markdown",
      "metadata": {
        "id": "lTXhaso1m1RN"
      },
      "source": [
        "### 전처리"
      ]
    },
    {
      "cell_type": "markdown",
      "metadata": {
        "id": "ABo0ZvzrNlID"
      },
      "source": [
        "#### 전처리 전 데이터"
      ]
    },
    {
      "cell_type": "code",
      "metadata": {
        "id": "S8bMSKlHM00-",
        "colab": {
          "base_uri": "https://localhost:8080/",
          "height": 394
        },
        "outputId": "2088fd5d-050b-40c2-f590-8fc021836ae8"
      },
      "source": [
        "covtype_df = pd.DataFrame(data=covtype_X)\n",
        "covtype_df.describe()"
      ],
      "execution_count": null,
      "outputs": [
        {
          "output_type": "execute_result",
          "data": {
            "text/plain": [
              "                  0              1              2              3   \\\n",
              "count  581012.000000  581012.000000  581012.000000  581012.000000   \n",
              "mean     2959.365301     155.656807      14.103704     269.428217   \n",
              "std       279.984734     111.913721       7.488242     212.549356   \n",
              "min      1859.000000       0.000000       0.000000       0.000000   \n",
              "25%      2809.000000      58.000000       9.000000     108.000000   \n",
              "50%      2996.000000     127.000000      13.000000     218.000000   \n",
              "75%      3163.000000     260.000000      18.000000     384.000000   \n",
              "max      3858.000000     360.000000      66.000000    1397.000000   \n",
              "\n",
              "                  4              5              6              7   \\\n",
              "count  581012.000000  581012.000000  581012.000000  581012.000000   \n",
              "mean       46.418855    2350.146611     212.146049     223.318716   \n",
              "std        58.295232    1559.254870      26.769889      19.768697   \n",
              "min      -173.000000       0.000000       0.000000       0.000000   \n",
              "25%         7.000000    1106.000000     198.000000     213.000000   \n",
              "50%        30.000000    1997.000000     218.000000     226.000000   \n",
              "75%        69.000000    3328.000000     231.000000     237.000000   \n",
              "max       601.000000    7117.000000     254.000000     254.000000   \n",
              "\n",
              "                  8              9   ...             44             45  \\\n",
              "count  581012.000000  581012.000000  ...  581012.000000  581012.000000   \n",
              "mean      142.528263    1980.291226  ...       0.044175       0.090392   \n",
              "std        38.274529    1324.195210  ...       0.205483       0.286743   \n",
              "min         0.000000       0.000000  ...       0.000000       0.000000   \n",
              "25%       119.000000    1024.000000  ...       0.000000       0.000000   \n",
              "50%       143.000000    1710.000000  ...       0.000000       0.000000   \n",
              "75%       168.000000    2550.000000  ...       0.000000       0.000000   \n",
              "max       254.000000    7173.000000  ...       1.000000       1.000000   \n",
              "\n",
              "                  46             47             48             49  \\\n",
              "count  581012.000000  581012.000000  581012.000000  581012.000000   \n",
              "mean        0.077716       0.002773       0.003255       0.000205   \n",
              "std         0.267725       0.052584       0.056957       0.014310   \n",
              "min         0.000000       0.000000       0.000000       0.000000   \n",
              "25%         0.000000       0.000000       0.000000       0.000000   \n",
              "50%         0.000000       0.000000       0.000000       0.000000   \n",
              "75%         0.000000       0.000000       0.000000       0.000000   \n",
              "max         1.000000       1.000000       1.000000       1.000000   \n",
              "\n",
              "                  50             51             52             53  \n",
              "count  581012.000000  581012.000000  581012.000000  581012.000000  \n",
              "mean        0.000513       0.026803       0.023762       0.015060  \n",
              "std         0.022641       0.161508       0.152307       0.121791  \n",
              "min         0.000000       0.000000       0.000000       0.000000  \n",
              "25%         0.000000       0.000000       0.000000       0.000000  \n",
              "50%         0.000000       0.000000       0.000000       0.000000  \n",
              "75%         0.000000       0.000000       0.000000       0.000000  \n",
              "max         1.000000       1.000000       1.000000       1.000000  \n",
              "\n",
              "[8 rows x 54 columns]"
            ],
            "text/html": [
              "\n",
              "  <div id=\"df-1e938704-3904-4376-a9ac-65f3c9d78b4e\">\n",
              "    <div class=\"colab-df-container\">\n",
              "      <div>\n",
              "<style scoped>\n",
              "    .dataframe tbody tr th:only-of-type {\n",
              "        vertical-align: middle;\n",
              "    }\n",
              "\n",
              "    .dataframe tbody tr th {\n",
              "        vertical-align: top;\n",
              "    }\n",
              "\n",
              "    .dataframe thead th {\n",
              "        text-align: right;\n",
              "    }\n",
              "</style>\n",
              "<table border=\"1\" class=\"dataframe\">\n",
              "  <thead>\n",
              "    <tr style=\"text-align: right;\">\n",
              "      <th></th>\n",
              "      <th>0</th>\n",
              "      <th>1</th>\n",
              "      <th>2</th>\n",
              "      <th>3</th>\n",
              "      <th>4</th>\n",
              "      <th>5</th>\n",
              "      <th>6</th>\n",
              "      <th>7</th>\n",
              "      <th>8</th>\n",
              "      <th>9</th>\n",
              "      <th>...</th>\n",
              "      <th>44</th>\n",
              "      <th>45</th>\n",
              "      <th>46</th>\n",
              "      <th>47</th>\n",
              "      <th>48</th>\n",
              "      <th>49</th>\n",
              "      <th>50</th>\n",
              "      <th>51</th>\n",
              "      <th>52</th>\n",
              "      <th>53</th>\n",
              "    </tr>\n",
              "  </thead>\n",
              "  <tbody>\n",
              "    <tr>\n",
              "      <th>count</th>\n",
              "      <td>581012.000000</td>\n",
              "      <td>581012.000000</td>\n",
              "      <td>581012.000000</td>\n",
              "      <td>581012.000000</td>\n",
              "      <td>581012.000000</td>\n",
              "      <td>581012.000000</td>\n",
              "      <td>581012.000000</td>\n",
              "      <td>581012.000000</td>\n",
              "      <td>581012.000000</td>\n",
              "      <td>581012.000000</td>\n",
              "      <td>...</td>\n",
              "      <td>581012.000000</td>\n",
              "      <td>581012.000000</td>\n",
              "      <td>581012.000000</td>\n",
              "      <td>581012.000000</td>\n",
              "      <td>581012.000000</td>\n",
              "      <td>581012.000000</td>\n",
              "      <td>581012.000000</td>\n",
              "      <td>581012.000000</td>\n",
              "      <td>581012.000000</td>\n",
              "      <td>581012.000000</td>\n",
              "    </tr>\n",
              "    <tr>\n",
              "      <th>mean</th>\n",
              "      <td>2959.365301</td>\n",
              "      <td>155.656807</td>\n",
              "      <td>14.103704</td>\n",
              "      <td>269.428217</td>\n",
              "      <td>46.418855</td>\n",
              "      <td>2350.146611</td>\n",
              "      <td>212.146049</td>\n",
              "      <td>223.318716</td>\n",
              "      <td>142.528263</td>\n",
              "      <td>1980.291226</td>\n",
              "      <td>...</td>\n",
              "      <td>0.044175</td>\n",
              "      <td>0.090392</td>\n",
              "      <td>0.077716</td>\n",
              "      <td>0.002773</td>\n",
              "      <td>0.003255</td>\n",
              "      <td>0.000205</td>\n",
              "      <td>0.000513</td>\n",
              "      <td>0.026803</td>\n",
              "      <td>0.023762</td>\n",
              "      <td>0.015060</td>\n",
              "    </tr>\n",
              "    <tr>\n",
              "      <th>std</th>\n",
              "      <td>279.984734</td>\n",
              "      <td>111.913721</td>\n",
              "      <td>7.488242</td>\n",
              "      <td>212.549356</td>\n",
              "      <td>58.295232</td>\n",
              "      <td>1559.254870</td>\n",
              "      <td>26.769889</td>\n",
              "      <td>19.768697</td>\n",
              "      <td>38.274529</td>\n",
              "      <td>1324.195210</td>\n",
              "      <td>...</td>\n",
              "      <td>0.205483</td>\n",
              "      <td>0.286743</td>\n",
              "      <td>0.267725</td>\n",
              "      <td>0.052584</td>\n",
              "      <td>0.056957</td>\n",
              "      <td>0.014310</td>\n",
              "      <td>0.022641</td>\n",
              "      <td>0.161508</td>\n",
              "      <td>0.152307</td>\n",
              "      <td>0.121791</td>\n",
              "    </tr>\n",
              "    <tr>\n",
              "      <th>min</th>\n",
              "      <td>1859.000000</td>\n",
              "      <td>0.000000</td>\n",
              "      <td>0.000000</td>\n",
              "      <td>0.000000</td>\n",
              "      <td>-173.000000</td>\n",
              "      <td>0.000000</td>\n",
              "      <td>0.000000</td>\n",
              "      <td>0.000000</td>\n",
              "      <td>0.000000</td>\n",
              "      <td>0.000000</td>\n",
              "      <td>...</td>\n",
              "      <td>0.000000</td>\n",
              "      <td>0.000000</td>\n",
              "      <td>0.000000</td>\n",
              "      <td>0.000000</td>\n",
              "      <td>0.000000</td>\n",
              "      <td>0.000000</td>\n",
              "      <td>0.000000</td>\n",
              "      <td>0.000000</td>\n",
              "      <td>0.000000</td>\n",
              "      <td>0.000000</td>\n",
              "    </tr>\n",
              "    <tr>\n",
              "      <th>25%</th>\n",
              "      <td>2809.000000</td>\n",
              "      <td>58.000000</td>\n",
              "      <td>9.000000</td>\n",
              "      <td>108.000000</td>\n",
              "      <td>7.000000</td>\n",
              "      <td>1106.000000</td>\n",
              "      <td>198.000000</td>\n",
              "      <td>213.000000</td>\n",
              "      <td>119.000000</td>\n",
              "      <td>1024.000000</td>\n",
              "      <td>...</td>\n",
              "      <td>0.000000</td>\n",
              "      <td>0.000000</td>\n",
              "      <td>0.000000</td>\n",
              "      <td>0.000000</td>\n",
              "      <td>0.000000</td>\n",
              "      <td>0.000000</td>\n",
              "      <td>0.000000</td>\n",
              "      <td>0.000000</td>\n",
              "      <td>0.000000</td>\n",
              "      <td>0.000000</td>\n",
              "    </tr>\n",
              "    <tr>\n",
              "      <th>50%</th>\n",
              "      <td>2996.000000</td>\n",
              "      <td>127.000000</td>\n",
              "      <td>13.000000</td>\n",
              "      <td>218.000000</td>\n",
              "      <td>30.000000</td>\n",
              "      <td>1997.000000</td>\n",
              "      <td>218.000000</td>\n",
              "      <td>226.000000</td>\n",
              "      <td>143.000000</td>\n",
              "      <td>1710.000000</td>\n",
              "      <td>...</td>\n",
              "      <td>0.000000</td>\n",
              "      <td>0.000000</td>\n",
              "      <td>0.000000</td>\n",
              "      <td>0.000000</td>\n",
              "      <td>0.000000</td>\n",
              "      <td>0.000000</td>\n",
              "      <td>0.000000</td>\n",
              "      <td>0.000000</td>\n",
              "      <td>0.000000</td>\n",
              "      <td>0.000000</td>\n",
              "    </tr>\n",
              "    <tr>\n",
              "      <th>75%</th>\n",
              "      <td>3163.000000</td>\n",
              "      <td>260.000000</td>\n",
              "      <td>18.000000</td>\n",
              "      <td>384.000000</td>\n",
              "      <td>69.000000</td>\n",
              "      <td>3328.000000</td>\n",
              "      <td>231.000000</td>\n",
              "      <td>237.000000</td>\n",
              "      <td>168.000000</td>\n",
              "      <td>2550.000000</td>\n",
              "      <td>...</td>\n",
              "      <td>0.000000</td>\n",
              "      <td>0.000000</td>\n",
              "      <td>0.000000</td>\n",
              "      <td>0.000000</td>\n",
              "      <td>0.000000</td>\n",
              "      <td>0.000000</td>\n",
              "      <td>0.000000</td>\n",
              "      <td>0.000000</td>\n",
              "      <td>0.000000</td>\n",
              "      <td>0.000000</td>\n",
              "    </tr>\n",
              "    <tr>\n",
              "      <th>max</th>\n",
              "      <td>3858.000000</td>\n",
              "      <td>360.000000</td>\n",
              "      <td>66.000000</td>\n",
              "      <td>1397.000000</td>\n",
              "      <td>601.000000</td>\n",
              "      <td>7117.000000</td>\n",
              "      <td>254.000000</td>\n",
              "      <td>254.000000</td>\n",
              "      <td>254.000000</td>\n",
              "      <td>7173.000000</td>\n",
              "      <td>...</td>\n",
              "      <td>1.000000</td>\n",
              "      <td>1.000000</td>\n",
              "      <td>1.000000</td>\n",
              "      <td>1.000000</td>\n",
              "      <td>1.000000</td>\n",
              "      <td>1.000000</td>\n",
              "      <td>1.000000</td>\n",
              "      <td>1.000000</td>\n",
              "      <td>1.000000</td>\n",
              "      <td>1.000000</td>\n",
              "    </tr>\n",
              "  </tbody>\n",
              "</table>\n",
              "<p>8 rows × 54 columns</p>\n",
              "</div>\n",
              "      <button class=\"colab-df-convert\" onclick=\"convertToInteractive('df-1e938704-3904-4376-a9ac-65f3c9d78b4e')\"\n",
              "              title=\"Convert this dataframe to an interactive table.\"\n",
              "              style=\"display:none;\">\n",
              "        \n",
              "  <svg xmlns=\"http://www.w3.org/2000/svg\" height=\"24px\"viewBox=\"0 0 24 24\"\n",
              "       width=\"24px\">\n",
              "    <path d=\"M0 0h24v24H0V0z\" fill=\"none\"/>\n",
              "    <path d=\"M18.56 5.44l.94 2.06.94-2.06 2.06-.94-2.06-.94-.94-2.06-.94 2.06-2.06.94zm-11 1L8.5 8.5l.94-2.06 2.06-.94-2.06-.94L8.5 2.5l-.94 2.06-2.06.94zm10 10l.94 2.06.94-2.06 2.06-.94-2.06-.94-.94-2.06-.94 2.06-2.06.94z\"/><path d=\"M17.41 7.96l-1.37-1.37c-.4-.4-.92-.59-1.43-.59-.52 0-1.04.2-1.43.59L10.3 9.45l-7.72 7.72c-.78.78-.78 2.05 0 2.83L4 21.41c.39.39.9.59 1.41.59.51 0 1.02-.2 1.41-.59l7.78-7.78 2.81-2.81c.8-.78.8-2.07 0-2.86zM5.41 20L4 18.59l7.72-7.72 1.47 1.35L5.41 20z\"/>\n",
              "  </svg>\n",
              "      </button>\n",
              "      \n",
              "  <style>\n",
              "    .colab-df-container {\n",
              "      display:flex;\n",
              "      flex-wrap:wrap;\n",
              "      gap: 12px;\n",
              "    }\n",
              "\n",
              "    .colab-df-convert {\n",
              "      background-color: #E8F0FE;\n",
              "      border: none;\n",
              "      border-radius: 50%;\n",
              "      cursor: pointer;\n",
              "      display: none;\n",
              "      fill: #1967D2;\n",
              "      height: 32px;\n",
              "      padding: 0 0 0 0;\n",
              "      width: 32px;\n",
              "    }\n",
              "\n",
              "    .colab-df-convert:hover {\n",
              "      background-color: #E2EBFA;\n",
              "      box-shadow: 0px 1px 2px rgba(60, 64, 67, 0.3), 0px 1px 3px 1px rgba(60, 64, 67, 0.15);\n",
              "      fill: #174EA6;\n",
              "    }\n",
              "\n",
              "    [theme=dark] .colab-df-convert {\n",
              "      background-color: #3B4455;\n",
              "      fill: #D2E3FC;\n",
              "    }\n",
              "\n",
              "    [theme=dark] .colab-df-convert:hover {\n",
              "      background-color: #434B5C;\n",
              "      box-shadow: 0px 1px 3px 1px rgba(0, 0, 0, 0.15);\n",
              "      filter: drop-shadow(0px 1px 2px rgba(0, 0, 0, 0.3));\n",
              "      fill: #FFFFFF;\n",
              "    }\n",
              "  </style>\n",
              "\n",
              "      <script>\n",
              "        const buttonEl =\n",
              "          document.querySelector('#df-1e938704-3904-4376-a9ac-65f3c9d78b4e button.colab-df-convert');\n",
              "        buttonEl.style.display =\n",
              "          google.colab.kernel.accessAllowed ? 'block' : 'none';\n",
              "\n",
              "        async function convertToInteractive(key) {\n",
              "          const element = document.querySelector('#df-1e938704-3904-4376-a9ac-65f3c9d78b4e');\n",
              "          const dataTable =\n",
              "            await google.colab.kernel.invokeFunction('convertToInteractive',\n",
              "                                                     [key], {});\n",
              "          if (!dataTable) return;\n",
              "\n",
              "          const docLinkHtml = 'Like what you see? Visit the ' +\n",
              "            '<a target=\"_blank\" href=https://colab.research.google.com/notebooks/data_table.ipynb>data table notebook</a>'\n",
              "            + ' to learn more about interactive tables.';\n",
              "          element.innerHTML = '';\n",
              "          dataTable['output_type'] = 'display_data';\n",
              "          await google.colab.output.renderOutput(dataTable, element);\n",
              "          const docLink = document.createElement('div');\n",
              "          docLink.innerHTML = docLinkHtml;\n",
              "          element.appendChild(docLink);\n",
              "        }\n",
              "      </script>\n",
              "    </div>\n",
              "  </div>\n",
              "  "
            ]
          },
          "metadata": {},
          "execution_count": 93
        }
      ]
    },
    {
      "cell_type": "code",
      "metadata": {
        "id": "CqDWerieNoBw",
        "colab": {
          "base_uri": "https://localhost:8080/",
          "height": 394
        },
        "outputId": "56d28d13-00bc-44ed-fe6d-589f63912cd0"
      },
      "source": [
        "covtype_train_df = pd.DataFrame(data = covtype_X_train)\n",
        "covtype_train_df.describe()"
      ],
      "execution_count": null,
      "outputs": [
        {
          "output_type": "execute_result",
          "data": {
            "text/plain": [
              "                  0              1              2              3   \\\n",
              "count  464809.000000  464809.000000  464809.000000  464809.000000   \n",
              "mean     2959.325387     155.529654      14.100407     269.698698   \n",
              "std       279.987414     111.871863       7.492657     212.675243   \n",
              "min      1859.000000       0.000000       0.000000       0.000000   \n",
              "25%      2809.000000      58.000000       9.000000     108.000000   \n",
              "50%      2996.000000     127.000000      13.000000     218.000000   \n",
              "75%      3163.000000     260.000000      18.000000     390.000000   \n",
              "max      3858.000000     360.000000      65.000000    1397.000000   \n",
              "\n",
              "                  4              5              6              7   \\\n",
              "count  464809.000000  464809.000000  464809.000000  464809.000000   \n",
              "mean       46.477069    2349.449010     212.170526     223.310416   \n",
              "std        58.322462    1558.925791      26.770393      19.772370   \n",
              "min      -173.000000       0.000000       0.000000       0.000000   \n",
              "25%         7.000000    1104.000000     198.000000     213.000000   \n",
              "50%        30.000000    1996.000000     218.000000     226.000000   \n",
              "75%        69.000000    3327.000000     231.000000     237.000000   \n",
              "max       599.000000    7116.000000     254.000000     254.000000   \n",
              "\n",
              "                  8             9   ...             44             45  \\\n",
              "count  464809.000000  464809.00000  ...  464809.000000  464809.000000   \n",
              "mean      142.492721    1980.41067  ...       0.044190       0.090603   \n",
              "std        38.287223    1324.65192  ...       0.205518       0.287044   \n",
              "min         0.000000       0.00000  ...       0.000000       0.000000   \n",
              "25%       119.000000    1022.00000  ...       0.000000       0.000000   \n",
              "50%       143.000000    1710.00000  ...       0.000000       0.000000   \n",
              "75%       168.000000    2550.00000  ...       0.000000       0.000000   \n",
              "max       254.000000    7173.00000  ...       1.000000       1.000000   \n",
              "\n",
              "                  46             47             48             49  \\\n",
              "count  464809.000000  464809.000000  464809.000000  464809.000000   \n",
              "mean        0.077542       0.002786       0.003262       0.000204   \n",
              "std         0.267449       0.052710       0.057017       0.014295   \n",
              "min         0.000000       0.000000       0.000000       0.000000   \n",
              "25%         0.000000       0.000000       0.000000       0.000000   \n",
              "50%         0.000000       0.000000       0.000000       0.000000   \n",
              "75%         0.000000       0.000000       0.000000       0.000000   \n",
              "max         1.000000       1.000000       1.000000       1.000000   \n",
              "\n",
              "                  50             51             52             53  \n",
              "count  464809.000000  464809.000000  464809.000000  464809.000000  \n",
              "mean        0.000518       0.026914       0.023808       0.015086  \n",
              "std         0.022765       0.161833       0.152450       0.121894  \n",
              "min         0.000000       0.000000       0.000000       0.000000  \n",
              "25%         0.000000       0.000000       0.000000       0.000000  \n",
              "50%         0.000000       0.000000       0.000000       0.000000  \n",
              "75%         0.000000       0.000000       0.000000       0.000000  \n",
              "max         1.000000       1.000000       1.000000       1.000000  \n",
              "\n",
              "[8 rows x 54 columns]"
            ],
            "text/html": [
              "\n",
              "  <div id=\"df-e54f956c-36ef-4507-a035-667095a3e691\">\n",
              "    <div class=\"colab-df-container\">\n",
              "      <div>\n",
              "<style scoped>\n",
              "    .dataframe tbody tr th:only-of-type {\n",
              "        vertical-align: middle;\n",
              "    }\n",
              "\n",
              "    .dataframe tbody tr th {\n",
              "        vertical-align: top;\n",
              "    }\n",
              "\n",
              "    .dataframe thead th {\n",
              "        text-align: right;\n",
              "    }\n",
              "</style>\n",
              "<table border=\"1\" class=\"dataframe\">\n",
              "  <thead>\n",
              "    <tr style=\"text-align: right;\">\n",
              "      <th></th>\n",
              "      <th>0</th>\n",
              "      <th>1</th>\n",
              "      <th>2</th>\n",
              "      <th>3</th>\n",
              "      <th>4</th>\n",
              "      <th>5</th>\n",
              "      <th>6</th>\n",
              "      <th>7</th>\n",
              "      <th>8</th>\n",
              "      <th>9</th>\n",
              "      <th>...</th>\n",
              "      <th>44</th>\n",
              "      <th>45</th>\n",
              "      <th>46</th>\n",
              "      <th>47</th>\n",
              "      <th>48</th>\n",
              "      <th>49</th>\n",
              "      <th>50</th>\n",
              "      <th>51</th>\n",
              "      <th>52</th>\n",
              "      <th>53</th>\n",
              "    </tr>\n",
              "  </thead>\n",
              "  <tbody>\n",
              "    <tr>\n",
              "      <th>count</th>\n",
              "      <td>464809.000000</td>\n",
              "      <td>464809.000000</td>\n",
              "      <td>464809.000000</td>\n",
              "      <td>464809.000000</td>\n",
              "      <td>464809.000000</td>\n",
              "      <td>464809.000000</td>\n",
              "      <td>464809.000000</td>\n",
              "      <td>464809.000000</td>\n",
              "      <td>464809.000000</td>\n",
              "      <td>464809.00000</td>\n",
              "      <td>...</td>\n",
              "      <td>464809.000000</td>\n",
              "      <td>464809.000000</td>\n",
              "      <td>464809.000000</td>\n",
              "      <td>464809.000000</td>\n",
              "      <td>464809.000000</td>\n",
              "      <td>464809.000000</td>\n",
              "      <td>464809.000000</td>\n",
              "      <td>464809.000000</td>\n",
              "      <td>464809.000000</td>\n",
              "      <td>464809.000000</td>\n",
              "    </tr>\n",
              "    <tr>\n",
              "      <th>mean</th>\n",
              "      <td>2959.325387</td>\n",
              "      <td>155.529654</td>\n",
              "      <td>14.100407</td>\n",
              "      <td>269.698698</td>\n",
              "      <td>46.477069</td>\n",
              "      <td>2349.449010</td>\n",
              "      <td>212.170526</td>\n",
              "      <td>223.310416</td>\n",
              "      <td>142.492721</td>\n",
              "      <td>1980.41067</td>\n",
              "      <td>...</td>\n",
              "      <td>0.044190</td>\n",
              "      <td>0.090603</td>\n",
              "      <td>0.077542</td>\n",
              "      <td>0.002786</td>\n",
              "      <td>0.003262</td>\n",
              "      <td>0.000204</td>\n",
              "      <td>0.000518</td>\n",
              "      <td>0.026914</td>\n",
              "      <td>0.023808</td>\n",
              "      <td>0.015086</td>\n",
              "    </tr>\n",
              "    <tr>\n",
              "      <th>std</th>\n",
              "      <td>279.987414</td>\n",
              "      <td>111.871863</td>\n",
              "      <td>7.492657</td>\n",
              "      <td>212.675243</td>\n",
              "      <td>58.322462</td>\n",
              "      <td>1558.925791</td>\n",
              "      <td>26.770393</td>\n",
              "      <td>19.772370</td>\n",
              "      <td>38.287223</td>\n",
              "      <td>1324.65192</td>\n",
              "      <td>...</td>\n",
              "      <td>0.205518</td>\n",
              "      <td>0.287044</td>\n",
              "      <td>0.267449</td>\n",
              "      <td>0.052710</td>\n",
              "      <td>0.057017</td>\n",
              "      <td>0.014295</td>\n",
              "      <td>0.022765</td>\n",
              "      <td>0.161833</td>\n",
              "      <td>0.152450</td>\n",
              "      <td>0.121894</td>\n",
              "    </tr>\n",
              "    <tr>\n",
              "      <th>min</th>\n",
              "      <td>1859.000000</td>\n",
              "      <td>0.000000</td>\n",
              "      <td>0.000000</td>\n",
              "      <td>0.000000</td>\n",
              "      <td>-173.000000</td>\n",
              "      <td>0.000000</td>\n",
              "      <td>0.000000</td>\n",
              "      <td>0.000000</td>\n",
              "      <td>0.000000</td>\n",
              "      <td>0.00000</td>\n",
              "      <td>...</td>\n",
              "      <td>0.000000</td>\n",
              "      <td>0.000000</td>\n",
              "      <td>0.000000</td>\n",
              "      <td>0.000000</td>\n",
              "      <td>0.000000</td>\n",
              "      <td>0.000000</td>\n",
              "      <td>0.000000</td>\n",
              "      <td>0.000000</td>\n",
              "      <td>0.000000</td>\n",
              "      <td>0.000000</td>\n",
              "    </tr>\n",
              "    <tr>\n",
              "      <th>25%</th>\n",
              "      <td>2809.000000</td>\n",
              "      <td>58.000000</td>\n",
              "      <td>9.000000</td>\n",
              "      <td>108.000000</td>\n",
              "      <td>7.000000</td>\n",
              "      <td>1104.000000</td>\n",
              "      <td>198.000000</td>\n",
              "      <td>213.000000</td>\n",
              "      <td>119.000000</td>\n",
              "      <td>1022.00000</td>\n",
              "      <td>...</td>\n",
              "      <td>0.000000</td>\n",
              "      <td>0.000000</td>\n",
              "      <td>0.000000</td>\n",
              "      <td>0.000000</td>\n",
              "      <td>0.000000</td>\n",
              "      <td>0.000000</td>\n",
              "      <td>0.000000</td>\n",
              "      <td>0.000000</td>\n",
              "      <td>0.000000</td>\n",
              "      <td>0.000000</td>\n",
              "    </tr>\n",
              "    <tr>\n",
              "      <th>50%</th>\n",
              "      <td>2996.000000</td>\n",
              "      <td>127.000000</td>\n",
              "      <td>13.000000</td>\n",
              "      <td>218.000000</td>\n",
              "      <td>30.000000</td>\n",
              "      <td>1996.000000</td>\n",
              "      <td>218.000000</td>\n",
              "      <td>226.000000</td>\n",
              "      <td>143.000000</td>\n",
              "      <td>1710.00000</td>\n",
              "      <td>...</td>\n",
              "      <td>0.000000</td>\n",
              "      <td>0.000000</td>\n",
              "      <td>0.000000</td>\n",
              "      <td>0.000000</td>\n",
              "      <td>0.000000</td>\n",
              "      <td>0.000000</td>\n",
              "      <td>0.000000</td>\n",
              "      <td>0.000000</td>\n",
              "      <td>0.000000</td>\n",
              "      <td>0.000000</td>\n",
              "    </tr>\n",
              "    <tr>\n",
              "      <th>75%</th>\n",
              "      <td>3163.000000</td>\n",
              "      <td>260.000000</td>\n",
              "      <td>18.000000</td>\n",
              "      <td>390.000000</td>\n",
              "      <td>69.000000</td>\n",
              "      <td>3327.000000</td>\n",
              "      <td>231.000000</td>\n",
              "      <td>237.000000</td>\n",
              "      <td>168.000000</td>\n",
              "      <td>2550.00000</td>\n",
              "      <td>...</td>\n",
              "      <td>0.000000</td>\n",
              "      <td>0.000000</td>\n",
              "      <td>0.000000</td>\n",
              "      <td>0.000000</td>\n",
              "      <td>0.000000</td>\n",
              "      <td>0.000000</td>\n",
              "      <td>0.000000</td>\n",
              "      <td>0.000000</td>\n",
              "      <td>0.000000</td>\n",
              "      <td>0.000000</td>\n",
              "    </tr>\n",
              "    <tr>\n",
              "      <th>max</th>\n",
              "      <td>3858.000000</td>\n",
              "      <td>360.000000</td>\n",
              "      <td>65.000000</td>\n",
              "      <td>1397.000000</td>\n",
              "      <td>599.000000</td>\n",
              "      <td>7116.000000</td>\n",
              "      <td>254.000000</td>\n",
              "      <td>254.000000</td>\n",
              "      <td>254.000000</td>\n",
              "      <td>7173.00000</td>\n",
              "      <td>...</td>\n",
              "      <td>1.000000</td>\n",
              "      <td>1.000000</td>\n",
              "      <td>1.000000</td>\n",
              "      <td>1.000000</td>\n",
              "      <td>1.000000</td>\n",
              "      <td>1.000000</td>\n",
              "      <td>1.000000</td>\n",
              "      <td>1.000000</td>\n",
              "      <td>1.000000</td>\n",
              "      <td>1.000000</td>\n",
              "    </tr>\n",
              "  </tbody>\n",
              "</table>\n",
              "<p>8 rows × 54 columns</p>\n",
              "</div>\n",
              "      <button class=\"colab-df-convert\" onclick=\"convertToInteractive('df-e54f956c-36ef-4507-a035-667095a3e691')\"\n",
              "              title=\"Convert this dataframe to an interactive table.\"\n",
              "              style=\"display:none;\">\n",
              "        \n",
              "  <svg xmlns=\"http://www.w3.org/2000/svg\" height=\"24px\"viewBox=\"0 0 24 24\"\n",
              "       width=\"24px\">\n",
              "    <path d=\"M0 0h24v24H0V0z\" fill=\"none\"/>\n",
              "    <path d=\"M18.56 5.44l.94 2.06.94-2.06 2.06-.94-2.06-.94-.94-2.06-.94 2.06-2.06.94zm-11 1L8.5 8.5l.94-2.06 2.06-.94-2.06-.94L8.5 2.5l-.94 2.06-2.06.94zm10 10l.94 2.06.94-2.06 2.06-.94-2.06-.94-.94-2.06-.94 2.06-2.06.94z\"/><path d=\"M17.41 7.96l-1.37-1.37c-.4-.4-.92-.59-1.43-.59-.52 0-1.04.2-1.43.59L10.3 9.45l-7.72 7.72c-.78.78-.78 2.05 0 2.83L4 21.41c.39.39.9.59 1.41.59.51 0 1.02-.2 1.41-.59l7.78-7.78 2.81-2.81c.8-.78.8-2.07 0-2.86zM5.41 20L4 18.59l7.72-7.72 1.47 1.35L5.41 20z\"/>\n",
              "  </svg>\n",
              "      </button>\n",
              "      \n",
              "  <style>\n",
              "    .colab-df-container {\n",
              "      display:flex;\n",
              "      flex-wrap:wrap;\n",
              "      gap: 12px;\n",
              "    }\n",
              "\n",
              "    .colab-df-convert {\n",
              "      background-color: #E8F0FE;\n",
              "      border: none;\n",
              "      border-radius: 50%;\n",
              "      cursor: pointer;\n",
              "      display: none;\n",
              "      fill: #1967D2;\n",
              "      height: 32px;\n",
              "      padding: 0 0 0 0;\n",
              "      width: 32px;\n",
              "    }\n",
              "\n",
              "    .colab-df-convert:hover {\n",
              "      background-color: #E2EBFA;\n",
              "      box-shadow: 0px 1px 2px rgba(60, 64, 67, 0.3), 0px 1px 3px 1px rgba(60, 64, 67, 0.15);\n",
              "      fill: #174EA6;\n",
              "    }\n",
              "\n",
              "    [theme=dark] .colab-df-convert {\n",
              "      background-color: #3B4455;\n",
              "      fill: #D2E3FC;\n",
              "    }\n",
              "\n",
              "    [theme=dark] .colab-df-convert:hover {\n",
              "      background-color: #434B5C;\n",
              "      box-shadow: 0px 1px 3px 1px rgba(0, 0, 0, 0.15);\n",
              "      filter: drop-shadow(0px 1px 2px rgba(0, 0, 0, 0.3));\n",
              "      fill: #FFFFFF;\n",
              "    }\n",
              "  </style>\n",
              "\n",
              "      <script>\n",
              "        const buttonEl =\n",
              "          document.querySelector('#df-e54f956c-36ef-4507-a035-667095a3e691 button.colab-df-convert');\n",
              "        buttonEl.style.display =\n",
              "          google.colab.kernel.accessAllowed ? 'block' : 'none';\n",
              "\n",
              "        async function convertToInteractive(key) {\n",
              "          const element = document.querySelector('#df-e54f956c-36ef-4507-a035-667095a3e691');\n",
              "          const dataTable =\n",
              "            await google.colab.kernel.invokeFunction('convertToInteractive',\n",
              "                                                     [key], {});\n",
              "          if (!dataTable) return;\n",
              "\n",
              "          const docLinkHtml = 'Like what you see? Visit the ' +\n",
              "            '<a target=\"_blank\" href=https://colab.research.google.com/notebooks/data_table.ipynb>data table notebook</a>'\n",
              "            + ' to learn more about interactive tables.';\n",
              "          element.innerHTML = '';\n",
              "          dataTable['output_type'] = 'display_data';\n",
              "          await google.colab.output.renderOutput(dataTable, element);\n",
              "          const docLink = document.createElement('div');\n",
              "          docLink.innerHTML = docLinkHtml;\n",
              "          element.appendChild(docLink);\n",
              "        }\n",
              "      </script>\n",
              "    </div>\n",
              "  </div>\n",
              "  "
            ]
          },
          "metadata": {},
          "execution_count": 94
        }
      ]
    },
    {
      "cell_type": "code",
      "metadata": {
        "id": "jKuvb4AfNzop",
        "colab": {
          "base_uri": "https://localhost:8080/",
          "height": 394
        },
        "outputId": "71c05179-d662-4d7f-8c55-b0107a34245b"
      },
      "source": [
        "covtype_test_df = pd.DataFrame(data = covtype_X_test)\n",
        "covtype_test_df.describe()"
      ],
      "execution_count": null,
      "outputs": [
        {
          "output_type": "execute_result",
          "data": {
            "text/plain": [
              "                  0              1              2              3   \\\n",
              "count  116203.000000  116203.000000  116203.000000  116203.000000   \n",
              "mean     2959.524952     156.165417      14.116890     268.346299   \n",
              "std       279.975163     112.080035       7.470574     212.042524   \n",
              "min      1860.000000       0.000000       0.000000       0.000000   \n",
              "25%      2810.000000      58.000000       9.000000     108.000000   \n",
              "50%      2996.000000     128.000000      13.000000     218.000000   \n",
              "75%      3163.000000     262.000000      18.000000     384.000000   \n",
              "max      3858.000000     360.000000      66.000000    1369.000000   \n",
              "\n",
              "                  4              5              6              7   \\\n",
              "count  116203.000000  116203.000000  116203.000000  116203.000000   \n",
              "mean       46.186002    2352.936998     212.048140     223.351919   \n",
              "std        58.185853    1560.574078      26.767763      19.754050   \n",
              "min      -163.000000       0.000000       0.000000       0.000000   \n",
              "25%         7.000000    1110.000000     198.000000     213.000000   \n",
              "50%        29.000000    2001.000000     218.000000     226.000000   \n",
              "75%        68.000000    3331.000000     231.000000     237.000000   \n",
              "max       601.000000    7117.000000     254.000000     254.000000   \n",
              "\n",
              "                  8              9   ...             44             45  \\\n",
              "count  116203.000000  116203.000000  ...  116203.000000  116203.000000   \n",
              "mean      142.670430    1979.813456  ...       0.044112       0.089550   \n",
              "std        38.223545    1322.372391  ...       0.205346       0.285537   \n",
              "min         0.000000       0.000000  ...       0.000000       0.000000   \n",
              "25%       119.000000    1026.000000  ...       0.000000       0.000000   \n",
              "50%       143.000000    1712.000000  ...       0.000000       0.000000   \n",
              "75%       168.000000    2550.000000  ...       0.000000       0.000000   \n",
              "max       254.000000    7141.000000  ...       1.000000       1.000000   \n",
              "\n",
              "                  46             47             48             49  \\\n",
              "count  116203.000000  116203.000000  116203.000000  116203.000000   \n",
              "mean        0.078414       0.002719       0.003227       0.000207   \n",
              "std         0.268824       0.052077       0.056716       0.014370   \n",
              "min         0.000000       0.000000       0.000000       0.000000   \n",
              "25%         0.000000       0.000000       0.000000       0.000000   \n",
              "50%         0.000000       0.000000       0.000000       0.000000   \n",
              "75%         0.000000       0.000000       0.000000       0.000000   \n",
              "max         1.000000       1.000000       1.000000       1.000000   \n",
              "\n",
              "                  50             51             52             53  \n",
              "count  116203.000000  116203.000000  116203.000000  116203.000000  \n",
              "mean        0.000491       0.026359       0.023579       0.014957  \n",
              "std         0.022142       0.160201       0.151735       0.121380  \n",
              "min         0.000000       0.000000       0.000000       0.000000  \n",
              "25%         0.000000       0.000000       0.000000       0.000000  \n",
              "50%         0.000000       0.000000       0.000000       0.000000  \n",
              "75%         0.000000       0.000000       0.000000       0.000000  \n",
              "max         1.000000       1.000000       1.000000       1.000000  \n",
              "\n",
              "[8 rows x 54 columns]"
            ],
            "text/html": [
              "\n",
              "  <div id=\"df-059c019d-fff3-4752-97a7-eecf389bab3d\">\n",
              "    <div class=\"colab-df-container\">\n",
              "      <div>\n",
              "<style scoped>\n",
              "    .dataframe tbody tr th:only-of-type {\n",
              "        vertical-align: middle;\n",
              "    }\n",
              "\n",
              "    .dataframe tbody tr th {\n",
              "        vertical-align: top;\n",
              "    }\n",
              "\n",
              "    .dataframe thead th {\n",
              "        text-align: right;\n",
              "    }\n",
              "</style>\n",
              "<table border=\"1\" class=\"dataframe\">\n",
              "  <thead>\n",
              "    <tr style=\"text-align: right;\">\n",
              "      <th></th>\n",
              "      <th>0</th>\n",
              "      <th>1</th>\n",
              "      <th>2</th>\n",
              "      <th>3</th>\n",
              "      <th>4</th>\n",
              "      <th>5</th>\n",
              "      <th>6</th>\n",
              "      <th>7</th>\n",
              "      <th>8</th>\n",
              "      <th>9</th>\n",
              "      <th>...</th>\n",
              "      <th>44</th>\n",
              "      <th>45</th>\n",
              "      <th>46</th>\n",
              "      <th>47</th>\n",
              "      <th>48</th>\n",
              "      <th>49</th>\n",
              "      <th>50</th>\n",
              "      <th>51</th>\n",
              "      <th>52</th>\n",
              "      <th>53</th>\n",
              "    </tr>\n",
              "  </thead>\n",
              "  <tbody>\n",
              "    <tr>\n",
              "      <th>count</th>\n",
              "      <td>116203.000000</td>\n",
              "      <td>116203.000000</td>\n",
              "      <td>116203.000000</td>\n",
              "      <td>116203.000000</td>\n",
              "      <td>116203.000000</td>\n",
              "      <td>116203.000000</td>\n",
              "      <td>116203.000000</td>\n",
              "      <td>116203.000000</td>\n",
              "      <td>116203.000000</td>\n",
              "      <td>116203.000000</td>\n",
              "      <td>...</td>\n",
              "      <td>116203.000000</td>\n",
              "      <td>116203.000000</td>\n",
              "      <td>116203.000000</td>\n",
              "      <td>116203.000000</td>\n",
              "      <td>116203.000000</td>\n",
              "      <td>116203.000000</td>\n",
              "      <td>116203.000000</td>\n",
              "      <td>116203.000000</td>\n",
              "      <td>116203.000000</td>\n",
              "      <td>116203.000000</td>\n",
              "    </tr>\n",
              "    <tr>\n",
              "      <th>mean</th>\n",
              "      <td>2959.524952</td>\n",
              "      <td>156.165417</td>\n",
              "      <td>14.116890</td>\n",
              "      <td>268.346299</td>\n",
              "      <td>46.186002</td>\n",
              "      <td>2352.936998</td>\n",
              "      <td>212.048140</td>\n",
              "      <td>223.351919</td>\n",
              "      <td>142.670430</td>\n",
              "      <td>1979.813456</td>\n",
              "      <td>...</td>\n",
              "      <td>0.044112</td>\n",
              "      <td>0.089550</td>\n",
              "      <td>0.078414</td>\n",
              "      <td>0.002719</td>\n",
              "      <td>0.003227</td>\n",
              "      <td>0.000207</td>\n",
              "      <td>0.000491</td>\n",
              "      <td>0.026359</td>\n",
              "      <td>0.023579</td>\n",
              "      <td>0.014957</td>\n",
              "    </tr>\n",
              "    <tr>\n",
              "      <th>std</th>\n",
              "      <td>279.975163</td>\n",
              "      <td>112.080035</td>\n",
              "      <td>7.470574</td>\n",
              "      <td>212.042524</td>\n",
              "      <td>58.185853</td>\n",
              "      <td>1560.574078</td>\n",
              "      <td>26.767763</td>\n",
              "      <td>19.754050</td>\n",
              "      <td>38.223545</td>\n",
              "      <td>1322.372391</td>\n",
              "      <td>...</td>\n",
              "      <td>0.205346</td>\n",
              "      <td>0.285537</td>\n",
              "      <td>0.268824</td>\n",
              "      <td>0.052077</td>\n",
              "      <td>0.056716</td>\n",
              "      <td>0.014370</td>\n",
              "      <td>0.022142</td>\n",
              "      <td>0.160201</td>\n",
              "      <td>0.151735</td>\n",
              "      <td>0.121380</td>\n",
              "    </tr>\n",
              "    <tr>\n",
              "      <th>min</th>\n",
              "      <td>1860.000000</td>\n",
              "      <td>0.000000</td>\n",
              "      <td>0.000000</td>\n",
              "      <td>0.000000</td>\n",
              "      <td>-163.000000</td>\n",
              "      <td>0.000000</td>\n",
              "      <td>0.000000</td>\n",
              "      <td>0.000000</td>\n",
              "      <td>0.000000</td>\n",
              "      <td>0.000000</td>\n",
              "      <td>...</td>\n",
              "      <td>0.000000</td>\n",
              "      <td>0.000000</td>\n",
              "      <td>0.000000</td>\n",
              "      <td>0.000000</td>\n",
              "      <td>0.000000</td>\n",
              "      <td>0.000000</td>\n",
              "      <td>0.000000</td>\n",
              "      <td>0.000000</td>\n",
              "      <td>0.000000</td>\n",
              "      <td>0.000000</td>\n",
              "    </tr>\n",
              "    <tr>\n",
              "      <th>25%</th>\n",
              "      <td>2810.000000</td>\n",
              "      <td>58.000000</td>\n",
              "      <td>9.000000</td>\n",
              "      <td>108.000000</td>\n",
              "      <td>7.000000</td>\n",
              "      <td>1110.000000</td>\n",
              "      <td>198.000000</td>\n",
              "      <td>213.000000</td>\n",
              "      <td>119.000000</td>\n",
              "      <td>1026.000000</td>\n",
              "      <td>...</td>\n",
              "      <td>0.000000</td>\n",
              "      <td>0.000000</td>\n",
              "      <td>0.000000</td>\n",
              "      <td>0.000000</td>\n",
              "      <td>0.000000</td>\n",
              "      <td>0.000000</td>\n",
              "      <td>0.000000</td>\n",
              "      <td>0.000000</td>\n",
              "      <td>0.000000</td>\n",
              "      <td>0.000000</td>\n",
              "    </tr>\n",
              "    <tr>\n",
              "      <th>50%</th>\n",
              "      <td>2996.000000</td>\n",
              "      <td>128.000000</td>\n",
              "      <td>13.000000</td>\n",
              "      <td>218.000000</td>\n",
              "      <td>29.000000</td>\n",
              "      <td>2001.000000</td>\n",
              "      <td>218.000000</td>\n",
              "      <td>226.000000</td>\n",
              "      <td>143.000000</td>\n",
              "      <td>1712.000000</td>\n",
              "      <td>...</td>\n",
              "      <td>0.000000</td>\n",
              "      <td>0.000000</td>\n",
              "      <td>0.000000</td>\n",
              "      <td>0.000000</td>\n",
              "      <td>0.000000</td>\n",
              "      <td>0.000000</td>\n",
              "      <td>0.000000</td>\n",
              "      <td>0.000000</td>\n",
              "      <td>0.000000</td>\n",
              "      <td>0.000000</td>\n",
              "    </tr>\n",
              "    <tr>\n",
              "      <th>75%</th>\n",
              "      <td>3163.000000</td>\n",
              "      <td>262.000000</td>\n",
              "      <td>18.000000</td>\n",
              "      <td>384.000000</td>\n",
              "      <td>68.000000</td>\n",
              "      <td>3331.000000</td>\n",
              "      <td>231.000000</td>\n",
              "      <td>237.000000</td>\n",
              "      <td>168.000000</td>\n",
              "      <td>2550.000000</td>\n",
              "      <td>...</td>\n",
              "      <td>0.000000</td>\n",
              "      <td>0.000000</td>\n",
              "      <td>0.000000</td>\n",
              "      <td>0.000000</td>\n",
              "      <td>0.000000</td>\n",
              "      <td>0.000000</td>\n",
              "      <td>0.000000</td>\n",
              "      <td>0.000000</td>\n",
              "      <td>0.000000</td>\n",
              "      <td>0.000000</td>\n",
              "    </tr>\n",
              "    <tr>\n",
              "      <th>max</th>\n",
              "      <td>3858.000000</td>\n",
              "      <td>360.000000</td>\n",
              "      <td>66.000000</td>\n",
              "      <td>1369.000000</td>\n",
              "      <td>601.000000</td>\n",
              "      <td>7117.000000</td>\n",
              "      <td>254.000000</td>\n",
              "      <td>254.000000</td>\n",
              "      <td>254.000000</td>\n",
              "      <td>7141.000000</td>\n",
              "      <td>...</td>\n",
              "      <td>1.000000</td>\n",
              "      <td>1.000000</td>\n",
              "      <td>1.000000</td>\n",
              "      <td>1.000000</td>\n",
              "      <td>1.000000</td>\n",
              "      <td>1.000000</td>\n",
              "      <td>1.000000</td>\n",
              "      <td>1.000000</td>\n",
              "      <td>1.000000</td>\n",
              "      <td>1.000000</td>\n",
              "    </tr>\n",
              "  </tbody>\n",
              "</table>\n",
              "<p>8 rows × 54 columns</p>\n",
              "</div>\n",
              "      <button class=\"colab-df-convert\" onclick=\"convertToInteractive('df-059c019d-fff3-4752-97a7-eecf389bab3d')\"\n",
              "              title=\"Convert this dataframe to an interactive table.\"\n",
              "              style=\"display:none;\">\n",
              "        \n",
              "  <svg xmlns=\"http://www.w3.org/2000/svg\" height=\"24px\"viewBox=\"0 0 24 24\"\n",
              "       width=\"24px\">\n",
              "    <path d=\"M0 0h24v24H0V0z\" fill=\"none\"/>\n",
              "    <path d=\"M18.56 5.44l.94 2.06.94-2.06 2.06-.94-2.06-.94-.94-2.06-.94 2.06-2.06.94zm-11 1L8.5 8.5l.94-2.06 2.06-.94-2.06-.94L8.5 2.5l-.94 2.06-2.06.94zm10 10l.94 2.06.94-2.06 2.06-.94-2.06-.94-.94-2.06-.94 2.06-2.06.94z\"/><path d=\"M17.41 7.96l-1.37-1.37c-.4-.4-.92-.59-1.43-.59-.52 0-1.04.2-1.43.59L10.3 9.45l-7.72 7.72c-.78.78-.78 2.05 0 2.83L4 21.41c.39.39.9.59 1.41.59.51 0 1.02-.2 1.41-.59l7.78-7.78 2.81-2.81c.8-.78.8-2.07 0-2.86zM5.41 20L4 18.59l7.72-7.72 1.47 1.35L5.41 20z\"/>\n",
              "  </svg>\n",
              "      </button>\n",
              "      \n",
              "  <style>\n",
              "    .colab-df-container {\n",
              "      display:flex;\n",
              "      flex-wrap:wrap;\n",
              "      gap: 12px;\n",
              "    }\n",
              "\n",
              "    .colab-df-convert {\n",
              "      background-color: #E8F0FE;\n",
              "      border: none;\n",
              "      border-radius: 50%;\n",
              "      cursor: pointer;\n",
              "      display: none;\n",
              "      fill: #1967D2;\n",
              "      height: 32px;\n",
              "      padding: 0 0 0 0;\n",
              "      width: 32px;\n",
              "    }\n",
              "\n",
              "    .colab-df-convert:hover {\n",
              "      background-color: #E2EBFA;\n",
              "      box-shadow: 0px 1px 2px rgba(60, 64, 67, 0.3), 0px 1px 3px 1px rgba(60, 64, 67, 0.15);\n",
              "      fill: #174EA6;\n",
              "    }\n",
              "\n",
              "    [theme=dark] .colab-df-convert {\n",
              "      background-color: #3B4455;\n",
              "      fill: #D2E3FC;\n",
              "    }\n",
              "\n",
              "    [theme=dark] .colab-df-convert:hover {\n",
              "      background-color: #434B5C;\n",
              "      box-shadow: 0px 1px 3px 1px rgba(0, 0, 0, 0.15);\n",
              "      filter: drop-shadow(0px 1px 2px rgba(0, 0, 0, 0.3));\n",
              "      fill: #FFFFFF;\n",
              "    }\n",
              "  </style>\n",
              "\n",
              "      <script>\n",
              "        const buttonEl =\n",
              "          document.querySelector('#df-059c019d-fff3-4752-97a7-eecf389bab3d button.colab-df-convert');\n",
              "        buttonEl.style.display =\n",
              "          google.colab.kernel.accessAllowed ? 'block' : 'none';\n",
              "\n",
              "        async function convertToInteractive(key) {\n",
              "          const element = document.querySelector('#df-059c019d-fff3-4752-97a7-eecf389bab3d');\n",
              "          const dataTable =\n",
              "            await google.colab.kernel.invokeFunction('convertToInteractive',\n",
              "                                                     [key], {});\n",
              "          if (!dataTable) return;\n",
              "\n",
              "          const docLinkHtml = 'Like what you see? Visit the ' +\n",
              "            '<a target=\"_blank\" href=https://colab.research.google.com/notebooks/data_table.ipynb>data table notebook</a>'\n",
              "            + ' to learn more about interactive tables.';\n",
              "          element.innerHTML = '';\n",
              "          dataTable['output_type'] = 'display_data';\n",
              "          await google.colab.output.renderOutput(dataTable, element);\n",
              "          const docLink = document.createElement('div');\n",
              "          docLink.innerHTML = docLinkHtml;\n",
              "          element.appendChild(docLink);\n",
              "        }\n",
              "      </script>\n",
              "    </div>\n",
              "  </div>\n",
              "  "
            ]
          },
          "metadata": {},
          "execution_count": 95
        }
      ]
    },
    {
      "cell_type": "markdown",
      "metadata": {
        "id": "FRsWUNBjN9q9"
      },
      "source": [
        "#### 전처리 과정"
      ]
    },
    {
      "cell_type": "code",
      "metadata": {
        "id": "zLYMfVwwpIMH"
      },
      "source": [
        "scaler = StandardScaler()\n",
        "covtype_X_train_scale = scaler.fit_transform(covtype_X_train)\n",
        "covtype_X_test_scale = scaler.transform(covtype_X_test)"
      ],
      "execution_count": null,
      "outputs": []
    },
    {
      "cell_type": "markdown",
      "metadata": {
        "id": "Z8l7rTxROCgr"
      },
      "source": [
        "#### 전처리 후 데이터\n",
        "* 평균은 0에 가깝게, 표준평차는 1에 가깝게 정규화"
      ]
    },
    {
      "cell_type": "code",
      "metadata": {
        "id": "it55pXLoOGBa",
        "colab": {
          "base_uri": "https://localhost:8080/",
          "height": 480
        },
        "outputId": "32a1bf5e-9a29-460b-9948-528226c6292e"
      },
      "source": [
        "covtype_train_df = pd.DataFrame(data = covtype_X_train_scale)\n",
        "covtype_train_df.describe()"
      ],
      "execution_count": null,
      "outputs": [
        {
          "output_type": "execute_result",
          "data": {
            "text/plain": [
              "                 0             1             2             3             4   \\\n",
              "count  4.648090e+05  4.648090e+05  4.648090e+05  4.648090e+05  4.648090e+05   \n",
              "mean  -7.483979e-16  2.203566e-16  6.192622e-17 -1.411891e-16 -2.350087e-16   \n",
              "std    1.000001e+00  1.000001e+00  1.000001e+00  1.000001e+00  1.000001e+00   \n",
              "min   -3.929914e+00 -1.390250e+00 -1.881899e+00 -1.268126e+00 -3.763169e+00   \n",
              "25%   -5.369011e-01 -8.717988e-01 -6.807215e-01 -7.603089e-01 -6.768766e-01   \n",
              "50%    1.309868e-01 -2.550211e-01 -1.468649e-01 -2.430878e-01 -2.825170e-01   \n",
              "75%    7.274428e-01  9.338403e-01  5.204559e-01  5.656579e-01  3.861798e-01   \n",
              "max    3.209700e+00  1.827721e+00  6.793271e+00  5.300582e+00  9.473597e+00   \n",
              "\n",
              "                 5             6             7             8             9   \\\n",
              "count  4.648090e+05  4.648090e+05  4.648090e+05  4.648090e+05  4.648090e+05   \n",
              "mean   1.316320e-16 -5.177725e-16 -2.346075e-16 -1.522545e-16  9.185819e-17   \n",
              "std    1.000001e+00  1.000001e+00  1.000001e+00  1.000001e+00  1.000001e+00   \n",
              "min   -1.507096e+00 -7.925575e+00 -1.129408e+01 -3.721682e+00 -1.495044e+00   \n",
              "25%   -7.989157e-01 -5.293363e-01 -5.214563e-01 -6.135923e-01 -7.235197e-01   \n",
              "50%   -2.267262e-01  2.177585e-01  1.360276e-01  1.324933e-02 -2.041374e-01   \n",
              "75%    6.270677e-01  7.033701e-01  6.923601e-01  6.662094e-01  4.299922e-01   \n",
              "max    3.057590e+00  1.562529e+00  1.552147e+00  2.912392e+00  3.919969e+00   \n",
              "\n",
              "       ...            44            45            46            47  \\\n",
              "count  ...  4.648090e+05  4.648090e+05  4.648090e+05  4.648090e+05   \n",
              "mean   ...  8.042620e-15 -1.563721e-15  3.273588e-15 -2.577722e-15   \n",
              "std    ...  1.000001e+00  1.000001e+00  1.000001e+00  1.000001e+00   \n",
              "min    ... -2.150192e-01 -3.156414e-01 -2.899304e-01 -5.285712e-02   \n",
              "25%    ... -2.150192e-01 -3.156414e-01 -2.899304e-01 -5.285712e-02   \n",
              "50%    ... -2.150192e-01 -3.156414e-01 -2.899304e-01 -5.285712e-02   \n",
              "75%    ... -2.150192e-01 -3.156414e-01 -2.899304e-01 -5.285712e-02   \n",
              "max    ...  4.650748e+00  3.168152e+00  3.449104e+00  1.891893e+01   \n",
              "\n",
              "                 48            49            50            51            52  \\\n",
              "count  4.648090e+05  4.648090e+05  4.648090e+05  4.648090e+05  4.648090e+05   \n",
              "mean  -4.046362e-15  1.244209e-14 -4.453118e-15 -4.391888e-15  3.510371e-15   \n",
              "std    1.000001e+00  1.000001e+00  1.000001e+00  1.000001e+00  1.000001e+00   \n",
              "min   -5.720339e-02 -1.429779e-02 -2.277634e-02 -1.663090e-01 -1.561674e-01   \n",
              "25%   -5.720339e-02 -1.429779e-02 -2.277634e-02 -1.663090e-01 -1.561674e-01   \n",
              "50%   -5.720339e-02 -1.429779e-02 -2.277634e-02 -1.663090e-01 -1.561674e-01   \n",
              "75%   -5.720339e-02 -1.429779e-02 -2.277634e-02 -1.663090e-01 -1.561674e-01   \n",
              "max    1.748148e+01  6.994088e+01  4.390522e+01  6.012902e+00  6.403385e+00   \n",
              "\n",
              "                 53  \n",
              "count  4.648090e+05  \n",
              "mean  -1.698500e-15  \n",
              "std    1.000001e+00  \n",
              "min   -1.237612e-01  \n",
              "25%   -1.237612e-01  \n",
              "50%   -1.237612e-01  \n",
              "75%   -1.237612e-01  \n",
              "max    8.080077e+00  \n",
              "\n",
              "[8 rows x 54 columns]"
            ],
            "text/html": [
              "\n",
              "  <div id=\"df-aa399336-2f90-428f-b64e-566305292ffd\">\n",
              "    <div class=\"colab-df-container\">\n",
              "      <div>\n",
              "<style scoped>\n",
              "    .dataframe tbody tr th:only-of-type {\n",
              "        vertical-align: middle;\n",
              "    }\n",
              "\n",
              "    .dataframe tbody tr th {\n",
              "        vertical-align: top;\n",
              "    }\n",
              "\n",
              "    .dataframe thead th {\n",
              "        text-align: right;\n",
              "    }\n",
              "</style>\n",
              "<table border=\"1\" class=\"dataframe\">\n",
              "  <thead>\n",
              "    <tr style=\"text-align: right;\">\n",
              "      <th></th>\n",
              "      <th>0</th>\n",
              "      <th>1</th>\n",
              "      <th>2</th>\n",
              "      <th>3</th>\n",
              "      <th>4</th>\n",
              "      <th>5</th>\n",
              "      <th>6</th>\n",
              "      <th>7</th>\n",
              "      <th>8</th>\n",
              "      <th>9</th>\n",
              "      <th>...</th>\n",
              "      <th>44</th>\n",
              "      <th>45</th>\n",
              "      <th>46</th>\n",
              "      <th>47</th>\n",
              "      <th>48</th>\n",
              "      <th>49</th>\n",
              "      <th>50</th>\n",
              "      <th>51</th>\n",
              "      <th>52</th>\n",
              "      <th>53</th>\n",
              "    </tr>\n",
              "  </thead>\n",
              "  <tbody>\n",
              "    <tr>\n",
              "      <th>count</th>\n",
              "      <td>4.648090e+05</td>\n",
              "      <td>4.648090e+05</td>\n",
              "      <td>4.648090e+05</td>\n",
              "      <td>4.648090e+05</td>\n",
              "      <td>4.648090e+05</td>\n",
              "      <td>4.648090e+05</td>\n",
              "      <td>4.648090e+05</td>\n",
              "      <td>4.648090e+05</td>\n",
              "      <td>4.648090e+05</td>\n",
              "      <td>4.648090e+05</td>\n",
              "      <td>...</td>\n",
              "      <td>4.648090e+05</td>\n",
              "      <td>4.648090e+05</td>\n",
              "      <td>4.648090e+05</td>\n",
              "      <td>4.648090e+05</td>\n",
              "      <td>4.648090e+05</td>\n",
              "      <td>4.648090e+05</td>\n",
              "      <td>4.648090e+05</td>\n",
              "      <td>4.648090e+05</td>\n",
              "      <td>4.648090e+05</td>\n",
              "      <td>4.648090e+05</td>\n",
              "    </tr>\n",
              "    <tr>\n",
              "      <th>mean</th>\n",
              "      <td>-7.483979e-16</td>\n",
              "      <td>2.203566e-16</td>\n",
              "      <td>6.192622e-17</td>\n",
              "      <td>-1.411891e-16</td>\n",
              "      <td>-2.350087e-16</td>\n",
              "      <td>1.316320e-16</td>\n",
              "      <td>-5.177725e-16</td>\n",
              "      <td>-2.346075e-16</td>\n",
              "      <td>-1.522545e-16</td>\n",
              "      <td>9.185819e-17</td>\n",
              "      <td>...</td>\n",
              "      <td>8.042620e-15</td>\n",
              "      <td>-1.563721e-15</td>\n",
              "      <td>3.273588e-15</td>\n",
              "      <td>-2.577722e-15</td>\n",
              "      <td>-4.046362e-15</td>\n",
              "      <td>1.244209e-14</td>\n",
              "      <td>-4.453118e-15</td>\n",
              "      <td>-4.391888e-15</td>\n",
              "      <td>3.510371e-15</td>\n",
              "      <td>-1.698500e-15</td>\n",
              "    </tr>\n",
              "    <tr>\n",
              "      <th>std</th>\n",
              "      <td>1.000001e+00</td>\n",
              "      <td>1.000001e+00</td>\n",
              "      <td>1.000001e+00</td>\n",
              "      <td>1.000001e+00</td>\n",
              "      <td>1.000001e+00</td>\n",
              "      <td>1.000001e+00</td>\n",
              "      <td>1.000001e+00</td>\n",
              "      <td>1.000001e+00</td>\n",
              "      <td>1.000001e+00</td>\n",
              "      <td>1.000001e+00</td>\n",
              "      <td>...</td>\n",
              "      <td>1.000001e+00</td>\n",
              "      <td>1.000001e+00</td>\n",
              "      <td>1.000001e+00</td>\n",
              "      <td>1.000001e+00</td>\n",
              "      <td>1.000001e+00</td>\n",
              "      <td>1.000001e+00</td>\n",
              "      <td>1.000001e+00</td>\n",
              "      <td>1.000001e+00</td>\n",
              "      <td>1.000001e+00</td>\n",
              "      <td>1.000001e+00</td>\n",
              "    </tr>\n",
              "    <tr>\n",
              "      <th>min</th>\n",
              "      <td>-3.929914e+00</td>\n",
              "      <td>-1.390250e+00</td>\n",
              "      <td>-1.881899e+00</td>\n",
              "      <td>-1.268126e+00</td>\n",
              "      <td>-3.763169e+00</td>\n",
              "      <td>-1.507096e+00</td>\n",
              "      <td>-7.925575e+00</td>\n",
              "      <td>-1.129408e+01</td>\n",
              "      <td>-3.721682e+00</td>\n",
              "      <td>-1.495044e+00</td>\n",
              "      <td>...</td>\n",
              "      <td>-2.150192e-01</td>\n",
              "      <td>-3.156414e-01</td>\n",
              "      <td>-2.899304e-01</td>\n",
              "      <td>-5.285712e-02</td>\n",
              "      <td>-5.720339e-02</td>\n",
              "      <td>-1.429779e-02</td>\n",
              "      <td>-2.277634e-02</td>\n",
              "      <td>-1.663090e-01</td>\n",
              "      <td>-1.561674e-01</td>\n",
              "      <td>-1.237612e-01</td>\n",
              "    </tr>\n",
              "    <tr>\n",
              "      <th>25%</th>\n",
              "      <td>-5.369011e-01</td>\n",
              "      <td>-8.717988e-01</td>\n",
              "      <td>-6.807215e-01</td>\n",
              "      <td>-7.603089e-01</td>\n",
              "      <td>-6.768766e-01</td>\n",
              "      <td>-7.989157e-01</td>\n",
              "      <td>-5.293363e-01</td>\n",
              "      <td>-5.214563e-01</td>\n",
              "      <td>-6.135923e-01</td>\n",
              "      <td>-7.235197e-01</td>\n",
              "      <td>...</td>\n",
              "      <td>-2.150192e-01</td>\n",
              "      <td>-3.156414e-01</td>\n",
              "      <td>-2.899304e-01</td>\n",
              "      <td>-5.285712e-02</td>\n",
              "      <td>-5.720339e-02</td>\n",
              "      <td>-1.429779e-02</td>\n",
              "      <td>-2.277634e-02</td>\n",
              "      <td>-1.663090e-01</td>\n",
              "      <td>-1.561674e-01</td>\n",
              "      <td>-1.237612e-01</td>\n",
              "    </tr>\n",
              "    <tr>\n",
              "      <th>50%</th>\n",
              "      <td>1.309868e-01</td>\n",
              "      <td>-2.550211e-01</td>\n",
              "      <td>-1.468649e-01</td>\n",
              "      <td>-2.430878e-01</td>\n",
              "      <td>-2.825170e-01</td>\n",
              "      <td>-2.267262e-01</td>\n",
              "      <td>2.177585e-01</td>\n",
              "      <td>1.360276e-01</td>\n",
              "      <td>1.324933e-02</td>\n",
              "      <td>-2.041374e-01</td>\n",
              "      <td>...</td>\n",
              "      <td>-2.150192e-01</td>\n",
              "      <td>-3.156414e-01</td>\n",
              "      <td>-2.899304e-01</td>\n",
              "      <td>-5.285712e-02</td>\n",
              "      <td>-5.720339e-02</td>\n",
              "      <td>-1.429779e-02</td>\n",
              "      <td>-2.277634e-02</td>\n",
              "      <td>-1.663090e-01</td>\n",
              "      <td>-1.561674e-01</td>\n",
              "      <td>-1.237612e-01</td>\n",
              "    </tr>\n",
              "    <tr>\n",
              "      <th>75%</th>\n",
              "      <td>7.274428e-01</td>\n",
              "      <td>9.338403e-01</td>\n",
              "      <td>5.204559e-01</td>\n",
              "      <td>5.656579e-01</td>\n",
              "      <td>3.861798e-01</td>\n",
              "      <td>6.270677e-01</td>\n",
              "      <td>7.033701e-01</td>\n",
              "      <td>6.923601e-01</td>\n",
              "      <td>6.662094e-01</td>\n",
              "      <td>4.299922e-01</td>\n",
              "      <td>...</td>\n",
              "      <td>-2.150192e-01</td>\n",
              "      <td>-3.156414e-01</td>\n",
              "      <td>-2.899304e-01</td>\n",
              "      <td>-5.285712e-02</td>\n",
              "      <td>-5.720339e-02</td>\n",
              "      <td>-1.429779e-02</td>\n",
              "      <td>-2.277634e-02</td>\n",
              "      <td>-1.663090e-01</td>\n",
              "      <td>-1.561674e-01</td>\n",
              "      <td>-1.237612e-01</td>\n",
              "    </tr>\n",
              "    <tr>\n",
              "      <th>max</th>\n",
              "      <td>3.209700e+00</td>\n",
              "      <td>1.827721e+00</td>\n",
              "      <td>6.793271e+00</td>\n",
              "      <td>5.300582e+00</td>\n",
              "      <td>9.473597e+00</td>\n",
              "      <td>3.057590e+00</td>\n",
              "      <td>1.562529e+00</td>\n",
              "      <td>1.552147e+00</td>\n",
              "      <td>2.912392e+00</td>\n",
              "      <td>3.919969e+00</td>\n",
              "      <td>...</td>\n",
              "      <td>4.650748e+00</td>\n",
              "      <td>3.168152e+00</td>\n",
              "      <td>3.449104e+00</td>\n",
              "      <td>1.891893e+01</td>\n",
              "      <td>1.748148e+01</td>\n",
              "      <td>6.994088e+01</td>\n",
              "      <td>4.390522e+01</td>\n",
              "      <td>6.012902e+00</td>\n",
              "      <td>6.403385e+00</td>\n",
              "      <td>8.080077e+00</td>\n",
              "    </tr>\n",
              "  </tbody>\n",
              "</table>\n",
              "<p>8 rows × 54 columns</p>\n",
              "</div>\n",
              "      <button class=\"colab-df-convert\" onclick=\"convertToInteractive('df-aa399336-2f90-428f-b64e-566305292ffd')\"\n",
              "              title=\"Convert this dataframe to an interactive table.\"\n",
              "              style=\"display:none;\">\n",
              "        \n",
              "  <svg xmlns=\"http://www.w3.org/2000/svg\" height=\"24px\"viewBox=\"0 0 24 24\"\n",
              "       width=\"24px\">\n",
              "    <path d=\"M0 0h24v24H0V0z\" fill=\"none\"/>\n",
              "    <path d=\"M18.56 5.44l.94 2.06.94-2.06 2.06-.94-2.06-.94-.94-2.06-.94 2.06-2.06.94zm-11 1L8.5 8.5l.94-2.06 2.06-.94-2.06-.94L8.5 2.5l-.94 2.06-2.06.94zm10 10l.94 2.06.94-2.06 2.06-.94-2.06-.94-.94-2.06-.94 2.06-2.06.94z\"/><path d=\"M17.41 7.96l-1.37-1.37c-.4-.4-.92-.59-1.43-.59-.52 0-1.04.2-1.43.59L10.3 9.45l-7.72 7.72c-.78.78-.78 2.05 0 2.83L4 21.41c.39.39.9.59 1.41.59.51 0 1.02-.2 1.41-.59l7.78-7.78 2.81-2.81c.8-.78.8-2.07 0-2.86zM5.41 20L4 18.59l7.72-7.72 1.47 1.35L5.41 20z\"/>\n",
              "  </svg>\n",
              "      </button>\n",
              "      \n",
              "  <style>\n",
              "    .colab-df-container {\n",
              "      display:flex;\n",
              "      flex-wrap:wrap;\n",
              "      gap: 12px;\n",
              "    }\n",
              "\n",
              "    .colab-df-convert {\n",
              "      background-color: #E8F0FE;\n",
              "      border: none;\n",
              "      border-radius: 50%;\n",
              "      cursor: pointer;\n",
              "      display: none;\n",
              "      fill: #1967D2;\n",
              "      height: 32px;\n",
              "      padding: 0 0 0 0;\n",
              "      width: 32px;\n",
              "    }\n",
              "\n",
              "    .colab-df-convert:hover {\n",
              "      background-color: #E2EBFA;\n",
              "      box-shadow: 0px 1px 2px rgba(60, 64, 67, 0.3), 0px 1px 3px 1px rgba(60, 64, 67, 0.15);\n",
              "      fill: #174EA6;\n",
              "    }\n",
              "\n",
              "    [theme=dark] .colab-df-convert {\n",
              "      background-color: #3B4455;\n",
              "      fill: #D2E3FC;\n",
              "    }\n",
              "\n",
              "    [theme=dark] .colab-df-convert:hover {\n",
              "      background-color: #434B5C;\n",
              "      box-shadow: 0px 1px 3px 1px rgba(0, 0, 0, 0.15);\n",
              "      filter: drop-shadow(0px 1px 2px rgba(0, 0, 0, 0.3));\n",
              "      fill: #FFFFFF;\n",
              "    }\n",
              "  </style>\n",
              "\n",
              "      <script>\n",
              "        const buttonEl =\n",
              "          document.querySelector('#df-aa399336-2f90-428f-b64e-566305292ffd button.colab-df-convert');\n",
              "        buttonEl.style.display =\n",
              "          google.colab.kernel.accessAllowed ? 'block' : 'none';\n",
              "\n",
              "        async function convertToInteractive(key) {\n",
              "          const element = document.querySelector('#df-aa399336-2f90-428f-b64e-566305292ffd');\n",
              "          const dataTable =\n",
              "            await google.colab.kernel.invokeFunction('convertToInteractive',\n",
              "                                                     [key], {});\n",
              "          if (!dataTable) return;\n",
              "\n",
              "          const docLinkHtml = 'Like what you see? Visit the ' +\n",
              "            '<a target=\"_blank\" href=https://colab.research.google.com/notebooks/data_table.ipynb>data table notebook</a>'\n",
              "            + ' to learn more about interactive tables.';\n",
              "          element.innerHTML = '';\n",
              "          dataTable['output_type'] = 'display_data';\n",
              "          await google.colab.output.renderOutput(dataTable, element);\n",
              "          const docLink = document.createElement('div');\n",
              "          docLink.innerHTML = docLinkHtml;\n",
              "          element.appendChild(docLink);\n",
              "        }\n",
              "      </script>\n",
              "    </div>\n",
              "  </div>\n",
              "  "
            ]
          },
          "metadata": {},
          "execution_count": 97
        }
      ]
    },
    {
      "cell_type": "code",
      "metadata": {
        "id": "yOdlTT1dOcss",
        "colab": {
          "base_uri": "https://localhost:8080/",
          "height": 394
        },
        "outputId": "a6bed15a-14a4-461d-8deb-f5f6281240a6"
      },
      "source": [
        "covtype_test_df = pd.DataFrame(data = covtype_X_test_scale)\n",
        "covtype_test_df.describe()"
      ],
      "execution_count": null,
      "outputs": [
        {
          "output_type": "execute_result",
          "data": {
            "text/plain": [
              "                  0              1              2              3   \\\n",
              "count  116203.000000  116203.000000  116203.000000  116203.000000   \n",
              "mean        0.000713       0.005683       0.002200      -0.006359   \n",
              "std         0.999957       1.001862       0.997054       0.997026   \n",
              "min        -3.926343      -1.390250      -1.881899      -1.268126   \n",
              "25%        -0.533330      -0.871799      -0.680721      -0.760309   \n",
              "50%         0.130987      -0.246082      -0.146865      -0.243088   \n",
              "75%         0.727443       0.951718       0.520456       0.537446   \n",
              "max         3.209700       1.827721       6.926735       5.168925   \n",
              "\n",
              "                  4              5              6              7   \\\n",
              "count  116203.000000  116203.000000  116203.000000  116203.000000   \n",
              "mean       -0.004991       0.002237      -0.004572       0.002099   \n",
              "std         0.997659       1.001058       0.999903       0.999075   \n",
              "min        -3.591709      -1.507096      -7.925575     -11.294076   \n",
              "25%        -0.676877      -0.795067      -0.529336      -0.521456   \n",
              "50%        -0.299663      -0.223519       0.217758       0.136028   \n",
              "75%         0.369034       0.629634       0.703370       0.692360   \n",
              "max         9.507890       3.058232       1.562529       1.552147   \n",
              "\n",
              "                  8              9   ...             44             45  \\\n",
              "count  116203.000000  116203.000000  ...  116203.000000  116203.000000   \n",
              "mean        0.004641      -0.000451  ...      -0.000378      -0.003667   \n",
              "std         0.998338       0.998280  ...       0.999165       0.994754   \n",
              "min        -3.721682      -1.495044  ...      -0.215019      -0.315641   \n",
              "25%        -0.613592      -0.720500  ...      -0.215019      -0.315641   \n",
              "50%         0.013249      -0.202628  ...      -0.215019      -0.315641   \n",
              "75%         0.666209       0.429992  ...      -0.215019      -0.315641   \n",
              "max         2.912392       3.895812  ...       4.650748       3.168152   \n",
              "\n",
              "                  46             47             48             49  \\\n",
              "count  116203.000000  116203.000000  116203.000000  116203.000000   \n",
              "mean        0.003264      -0.001266      -0.000604       0.000150   \n",
              "std         1.005142       0.987992       0.994727       1.005249   \n",
              "min        -0.289930      -0.052857      -0.057203      -0.014298   \n",
              "25%        -0.289930      -0.052857      -0.057203      -0.014298   \n",
              "50%        -0.289930      -0.052857      -0.057203      -0.014298   \n",
              "75%        -0.289930      -0.052857      -0.057203      -0.014298   \n",
              "max         3.449104      18.918929      17.481483      69.940877   \n",
              "\n",
              "                  50             51             52             53  \n",
              "count  116203.000000  116203.000000  116203.000000  116203.000000  \n",
              "mean       -0.001229      -0.003431      -0.001497      -0.001060  \n",
              "std         0.972670       0.989918       0.995316       0.995779  \n",
              "min        -0.022776      -0.166309      -0.156167      -0.123761  \n",
              "25%        -0.022776      -0.166309      -0.156167      -0.123761  \n",
              "50%        -0.022776      -0.166309      -0.156167      -0.123761  \n",
              "75%        -0.022776      -0.166309      -0.156167      -0.123761  \n",
              "max        43.905217       6.012902       6.403385       8.080077  \n",
              "\n",
              "[8 rows x 54 columns]"
            ],
            "text/html": [
              "\n",
              "  <div id=\"df-ad483026-d743-48e5-9415-3546be846549\">\n",
              "    <div class=\"colab-df-container\">\n",
              "      <div>\n",
              "<style scoped>\n",
              "    .dataframe tbody tr th:only-of-type {\n",
              "        vertical-align: middle;\n",
              "    }\n",
              "\n",
              "    .dataframe tbody tr th {\n",
              "        vertical-align: top;\n",
              "    }\n",
              "\n",
              "    .dataframe thead th {\n",
              "        text-align: right;\n",
              "    }\n",
              "</style>\n",
              "<table border=\"1\" class=\"dataframe\">\n",
              "  <thead>\n",
              "    <tr style=\"text-align: right;\">\n",
              "      <th></th>\n",
              "      <th>0</th>\n",
              "      <th>1</th>\n",
              "      <th>2</th>\n",
              "      <th>3</th>\n",
              "      <th>4</th>\n",
              "      <th>5</th>\n",
              "      <th>6</th>\n",
              "      <th>7</th>\n",
              "      <th>8</th>\n",
              "      <th>9</th>\n",
              "      <th>...</th>\n",
              "      <th>44</th>\n",
              "      <th>45</th>\n",
              "      <th>46</th>\n",
              "      <th>47</th>\n",
              "      <th>48</th>\n",
              "      <th>49</th>\n",
              "      <th>50</th>\n",
              "      <th>51</th>\n",
              "      <th>52</th>\n",
              "      <th>53</th>\n",
              "    </tr>\n",
              "  </thead>\n",
              "  <tbody>\n",
              "    <tr>\n",
              "      <th>count</th>\n",
              "      <td>116203.000000</td>\n",
              "      <td>116203.000000</td>\n",
              "      <td>116203.000000</td>\n",
              "      <td>116203.000000</td>\n",
              "      <td>116203.000000</td>\n",
              "      <td>116203.000000</td>\n",
              "      <td>116203.000000</td>\n",
              "      <td>116203.000000</td>\n",
              "      <td>116203.000000</td>\n",
              "      <td>116203.000000</td>\n",
              "      <td>...</td>\n",
              "      <td>116203.000000</td>\n",
              "      <td>116203.000000</td>\n",
              "      <td>116203.000000</td>\n",
              "      <td>116203.000000</td>\n",
              "      <td>116203.000000</td>\n",
              "      <td>116203.000000</td>\n",
              "      <td>116203.000000</td>\n",
              "      <td>116203.000000</td>\n",
              "      <td>116203.000000</td>\n",
              "      <td>116203.000000</td>\n",
              "    </tr>\n",
              "    <tr>\n",
              "      <th>mean</th>\n",
              "      <td>0.000713</td>\n",
              "      <td>0.005683</td>\n",
              "      <td>0.002200</td>\n",
              "      <td>-0.006359</td>\n",
              "      <td>-0.004991</td>\n",
              "      <td>0.002237</td>\n",
              "      <td>-0.004572</td>\n",
              "      <td>0.002099</td>\n",
              "      <td>0.004641</td>\n",
              "      <td>-0.000451</td>\n",
              "      <td>...</td>\n",
              "      <td>-0.000378</td>\n",
              "      <td>-0.003667</td>\n",
              "      <td>0.003264</td>\n",
              "      <td>-0.001266</td>\n",
              "      <td>-0.000604</td>\n",
              "      <td>0.000150</td>\n",
              "      <td>-0.001229</td>\n",
              "      <td>-0.003431</td>\n",
              "      <td>-0.001497</td>\n",
              "      <td>-0.001060</td>\n",
              "    </tr>\n",
              "    <tr>\n",
              "      <th>std</th>\n",
              "      <td>0.999957</td>\n",
              "      <td>1.001862</td>\n",
              "      <td>0.997054</td>\n",
              "      <td>0.997026</td>\n",
              "      <td>0.997659</td>\n",
              "      <td>1.001058</td>\n",
              "      <td>0.999903</td>\n",
              "      <td>0.999075</td>\n",
              "      <td>0.998338</td>\n",
              "      <td>0.998280</td>\n",
              "      <td>...</td>\n",
              "      <td>0.999165</td>\n",
              "      <td>0.994754</td>\n",
              "      <td>1.005142</td>\n",
              "      <td>0.987992</td>\n",
              "      <td>0.994727</td>\n",
              "      <td>1.005249</td>\n",
              "      <td>0.972670</td>\n",
              "      <td>0.989918</td>\n",
              "      <td>0.995316</td>\n",
              "      <td>0.995779</td>\n",
              "    </tr>\n",
              "    <tr>\n",
              "      <th>min</th>\n",
              "      <td>-3.926343</td>\n",
              "      <td>-1.390250</td>\n",
              "      <td>-1.881899</td>\n",
              "      <td>-1.268126</td>\n",
              "      <td>-3.591709</td>\n",
              "      <td>-1.507096</td>\n",
              "      <td>-7.925575</td>\n",
              "      <td>-11.294076</td>\n",
              "      <td>-3.721682</td>\n",
              "      <td>-1.495044</td>\n",
              "      <td>...</td>\n",
              "      <td>-0.215019</td>\n",
              "      <td>-0.315641</td>\n",
              "      <td>-0.289930</td>\n",
              "      <td>-0.052857</td>\n",
              "      <td>-0.057203</td>\n",
              "      <td>-0.014298</td>\n",
              "      <td>-0.022776</td>\n",
              "      <td>-0.166309</td>\n",
              "      <td>-0.156167</td>\n",
              "      <td>-0.123761</td>\n",
              "    </tr>\n",
              "    <tr>\n",
              "      <th>25%</th>\n",
              "      <td>-0.533330</td>\n",
              "      <td>-0.871799</td>\n",
              "      <td>-0.680721</td>\n",
              "      <td>-0.760309</td>\n",
              "      <td>-0.676877</td>\n",
              "      <td>-0.795067</td>\n",
              "      <td>-0.529336</td>\n",
              "      <td>-0.521456</td>\n",
              "      <td>-0.613592</td>\n",
              "      <td>-0.720500</td>\n",
              "      <td>...</td>\n",
              "      <td>-0.215019</td>\n",
              "      <td>-0.315641</td>\n",
              "      <td>-0.289930</td>\n",
              "      <td>-0.052857</td>\n",
              "      <td>-0.057203</td>\n",
              "      <td>-0.014298</td>\n",
              "      <td>-0.022776</td>\n",
              "      <td>-0.166309</td>\n",
              "      <td>-0.156167</td>\n",
              "      <td>-0.123761</td>\n",
              "    </tr>\n",
              "    <tr>\n",
              "      <th>50%</th>\n",
              "      <td>0.130987</td>\n",
              "      <td>-0.246082</td>\n",
              "      <td>-0.146865</td>\n",
              "      <td>-0.243088</td>\n",
              "      <td>-0.299663</td>\n",
              "      <td>-0.223519</td>\n",
              "      <td>0.217758</td>\n",
              "      <td>0.136028</td>\n",
              "      <td>0.013249</td>\n",
              "      <td>-0.202628</td>\n",
              "      <td>...</td>\n",
              "      <td>-0.215019</td>\n",
              "      <td>-0.315641</td>\n",
              "      <td>-0.289930</td>\n",
              "      <td>-0.052857</td>\n",
              "      <td>-0.057203</td>\n",
              "      <td>-0.014298</td>\n",
              "      <td>-0.022776</td>\n",
              "      <td>-0.166309</td>\n",
              "      <td>-0.156167</td>\n",
              "      <td>-0.123761</td>\n",
              "    </tr>\n",
              "    <tr>\n",
              "      <th>75%</th>\n",
              "      <td>0.727443</td>\n",
              "      <td>0.951718</td>\n",
              "      <td>0.520456</td>\n",
              "      <td>0.537446</td>\n",
              "      <td>0.369034</td>\n",
              "      <td>0.629634</td>\n",
              "      <td>0.703370</td>\n",
              "      <td>0.692360</td>\n",
              "      <td>0.666209</td>\n",
              "      <td>0.429992</td>\n",
              "      <td>...</td>\n",
              "      <td>-0.215019</td>\n",
              "      <td>-0.315641</td>\n",
              "      <td>-0.289930</td>\n",
              "      <td>-0.052857</td>\n",
              "      <td>-0.057203</td>\n",
              "      <td>-0.014298</td>\n",
              "      <td>-0.022776</td>\n",
              "      <td>-0.166309</td>\n",
              "      <td>-0.156167</td>\n",
              "      <td>-0.123761</td>\n",
              "    </tr>\n",
              "    <tr>\n",
              "      <th>max</th>\n",
              "      <td>3.209700</td>\n",
              "      <td>1.827721</td>\n",
              "      <td>6.926735</td>\n",
              "      <td>5.168925</td>\n",
              "      <td>9.507890</td>\n",
              "      <td>3.058232</td>\n",
              "      <td>1.562529</td>\n",
              "      <td>1.552147</td>\n",
              "      <td>2.912392</td>\n",
              "      <td>3.895812</td>\n",
              "      <td>...</td>\n",
              "      <td>4.650748</td>\n",
              "      <td>3.168152</td>\n",
              "      <td>3.449104</td>\n",
              "      <td>18.918929</td>\n",
              "      <td>17.481483</td>\n",
              "      <td>69.940877</td>\n",
              "      <td>43.905217</td>\n",
              "      <td>6.012902</td>\n",
              "      <td>6.403385</td>\n",
              "      <td>8.080077</td>\n",
              "    </tr>\n",
              "  </tbody>\n",
              "</table>\n",
              "<p>8 rows × 54 columns</p>\n",
              "</div>\n",
              "      <button class=\"colab-df-convert\" onclick=\"convertToInteractive('df-ad483026-d743-48e5-9415-3546be846549')\"\n",
              "              title=\"Convert this dataframe to an interactive table.\"\n",
              "              style=\"display:none;\">\n",
              "        \n",
              "  <svg xmlns=\"http://www.w3.org/2000/svg\" height=\"24px\"viewBox=\"0 0 24 24\"\n",
              "       width=\"24px\">\n",
              "    <path d=\"M0 0h24v24H0V0z\" fill=\"none\"/>\n",
              "    <path d=\"M18.56 5.44l.94 2.06.94-2.06 2.06-.94-2.06-.94-.94-2.06-.94 2.06-2.06.94zm-11 1L8.5 8.5l.94-2.06 2.06-.94-2.06-.94L8.5 2.5l-.94 2.06-2.06.94zm10 10l.94 2.06.94-2.06 2.06-.94-2.06-.94-.94-2.06-.94 2.06-2.06.94z\"/><path d=\"M17.41 7.96l-1.37-1.37c-.4-.4-.92-.59-1.43-.59-.52 0-1.04.2-1.43.59L10.3 9.45l-7.72 7.72c-.78.78-.78 2.05 0 2.83L4 21.41c.39.39.9.59 1.41.59.51 0 1.02-.2 1.41-.59l7.78-7.78 2.81-2.81c.8-.78.8-2.07 0-2.86zM5.41 20L4 18.59l7.72-7.72 1.47 1.35L5.41 20z\"/>\n",
              "  </svg>\n",
              "      </button>\n",
              "      \n",
              "  <style>\n",
              "    .colab-df-container {\n",
              "      display:flex;\n",
              "      flex-wrap:wrap;\n",
              "      gap: 12px;\n",
              "    }\n",
              "\n",
              "    .colab-df-convert {\n",
              "      background-color: #E8F0FE;\n",
              "      border: none;\n",
              "      border-radius: 50%;\n",
              "      cursor: pointer;\n",
              "      display: none;\n",
              "      fill: #1967D2;\n",
              "      height: 32px;\n",
              "      padding: 0 0 0 0;\n",
              "      width: 32px;\n",
              "    }\n",
              "\n",
              "    .colab-df-convert:hover {\n",
              "      background-color: #E2EBFA;\n",
              "      box-shadow: 0px 1px 2px rgba(60, 64, 67, 0.3), 0px 1px 3px 1px rgba(60, 64, 67, 0.15);\n",
              "      fill: #174EA6;\n",
              "    }\n",
              "\n",
              "    [theme=dark] .colab-df-convert {\n",
              "      background-color: #3B4455;\n",
              "      fill: #D2E3FC;\n",
              "    }\n",
              "\n",
              "    [theme=dark] .colab-df-convert:hover {\n",
              "      background-color: #434B5C;\n",
              "      box-shadow: 0px 1px 3px 1px rgba(0, 0, 0, 0.15);\n",
              "      filter: drop-shadow(0px 1px 2px rgba(0, 0, 0, 0.3));\n",
              "      fill: #FFFFFF;\n",
              "    }\n",
              "  </style>\n",
              "\n",
              "      <script>\n",
              "        const buttonEl =\n",
              "          document.querySelector('#df-ad483026-d743-48e5-9415-3546be846549 button.colab-df-convert');\n",
              "        buttonEl.style.display =\n",
              "          google.colab.kernel.accessAllowed ? 'block' : 'none';\n",
              "\n",
              "        async function convertToInteractive(key) {\n",
              "          const element = document.querySelector('#df-ad483026-d743-48e5-9415-3546be846549');\n",
              "          const dataTable =\n",
              "            await google.colab.kernel.invokeFunction('convertToInteractive',\n",
              "                                                     [key], {});\n",
              "          if (!dataTable) return;\n",
              "\n",
              "          const docLinkHtml = 'Like what you see? Visit the ' +\n",
              "            '<a target=\"_blank\" href=https://colab.research.google.com/notebooks/data_table.ipynb>data table notebook</a>'\n",
              "            + ' to learn more about interactive tables.';\n",
              "          element.innerHTML = '';\n",
              "          dataTable['output_type'] = 'display_data';\n",
              "          await google.colab.output.renderOutput(dataTable, element);\n",
              "          const docLink = document.createElement('div');\n",
              "          docLink.innerHTML = docLinkHtml;\n",
              "          element.appendChild(docLink);\n",
              "        }\n",
              "      </script>\n",
              "    </div>\n",
              "  </div>\n",
              "  "
            ]
          },
          "metadata": {},
          "execution_count": 98
        }
      ]
    },
    {
      "cell_type": "markdown",
      "metadata": {
        "id": "PA45idG9ayMV"
      },
      "source": [
        "## 20 Newsgroup 데이터\n",
        "* 뉴스 기사가 어느 그룹에 속하는지 분류\n",
        "* 뉴스 기사는 텍스트 데이터이기 때문에 특별한 전처리 과정이 필요"
      ]
    },
    {
      "cell_type": "code",
      "metadata": {
        "id": "AO1QR0StXwgz",
        "colab": {
          "base_uri": "https://localhost:8080/"
        },
        "outputId": "2f385186-0a5d-434e-98bc-294c15350927"
      },
      "source": [
        "newsgroup = fetch_20newsgroups()\n",
        "print(newsgroup.DESCR)"
      ],
      "execution_count": null,
      "outputs": [
        {
          "output_type": "stream",
          "name": "stdout",
          "text": [
            ".. _20newsgroups_dataset:\n",
            "\n",
            "The 20 newsgroups text dataset\n",
            "------------------------------\n",
            "\n",
            "The 20 newsgroups dataset comprises around 18000 newsgroups posts on\n",
            "20 topics split in two subsets: one for training (or development)\n",
            "and the other one for testing (or for performance evaluation). The split\n",
            "between the train and test set is based upon a messages posted before\n",
            "and after a specific date.\n",
            "\n",
            "This module contains two loaders. The first one,\n",
            ":func:`sklearn.datasets.fetch_20newsgroups`,\n",
            "returns a list of the raw texts that can be fed to text feature\n",
            "extractors such as :class:`~sklearn.feature_extraction.text.CountVectorizer`\n",
            "with custom parameters so as to extract feature vectors.\n",
            "The second one, :func:`sklearn.datasets.fetch_20newsgroups_vectorized`,\n",
            "returns ready-to-use features, i.e., it is not necessary to use a feature\n",
            "extractor.\n",
            "\n",
            "**Data Set Characteristics:**\n",
            "\n",
            "    =================   ==========\n",
            "    Classes                     20\n",
            "    Samples total            18846\n",
            "    Dimensionality               1\n",
            "    Features                  text\n",
            "    =================   ==========\n",
            "\n",
            "Usage\n",
            "~~~~~\n",
            "\n",
            "The :func:`sklearn.datasets.fetch_20newsgroups` function is a data\n",
            "fetching / caching functions that downloads the data archive from\n",
            "the original `20 newsgroups website`_, extracts the archive contents\n",
            "in the ``~/scikit_learn_data/20news_home`` folder and calls the\n",
            ":func:`sklearn.datasets.load_files` on either the training or\n",
            "testing set folder, or both of them::\n",
            "\n",
            "  >>> from sklearn.datasets import fetch_20newsgroups\n",
            "  >>> newsgroups_train = fetch_20newsgroups(subset='train')\n",
            "\n",
            "  >>> from pprint import pprint\n",
            "  >>> pprint(list(newsgroups_train.target_names))\n",
            "  ['alt.atheism',\n",
            "   'comp.graphics',\n",
            "   'comp.os.ms-windows.misc',\n",
            "   'comp.sys.ibm.pc.hardware',\n",
            "   'comp.sys.mac.hardware',\n",
            "   'comp.windows.x',\n",
            "   'misc.forsale',\n",
            "   'rec.autos',\n",
            "   'rec.motorcycles',\n",
            "   'rec.sport.baseball',\n",
            "   'rec.sport.hockey',\n",
            "   'sci.crypt',\n",
            "   'sci.electronics',\n",
            "   'sci.med',\n",
            "   'sci.space',\n",
            "   'soc.religion.christian',\n",
            "   'talk.politics.guns',\n",
            "   'talk.politics.mideast',\n",
            "   'talk.politics.misc',\n",
            "   'talk.religion.misc']\n",
            "\n",
            "The real data lies in the ``filenames`` and ``target`` attributes. The target\n",
            "attribute is the integer index of the category::\n",
            "\n",
            "  >>> newsgroups_train.filenames.shape\n",
            "  (11314,)\n",
            "  >>> newsgroups_train.target.shape\n",
            "  (11314,)\n",
            "  >>> newsgroups_train.target[:10]\n",
            "  array([ 7,  4,  4,  1, 14, 16, 13,  3,  2,  4])\n",
            "\n",
            "It is possible to load only a sub-selection of the categories by passing the\n",
            "list of the categories to load to the\n",
            ":func:`sklearn.datasets.fetch_20newsgroups` function::\n",
            "\n",
            "  >>> cats = ['alt.atheism', 'sci.space']\n",
            "  >>> newsgroups_train = fetch_20newsgroups(subset='train', categories=cats)\n",
            "\n",
            "  >>> list(newsgroups_train.target_names)\n",
            "  ['alt.atheism', 'sci.space']\n",
            "  >>> newsgroups_train.filenames.shape\n",
            "  (1073,)\n",
            "  >>> newsgroups_train.target.shape\n",
            "  (1073,)\n",
            "  >>> newsgroups_train.target[:10]\n",
            "  array([0, 1, 1, 1, 0, 1, 1, 0, 0, 0])\n",
            "\n",
            "Converting text to vectors\n",
            "~~~~~~~~~~~~~~~~~~~~~~~~~~\n",
            "\n",
            "In order to feed predictive or clustering models with the text data,\n",
            "one first need to turn the text into vectors of numerical values suitable\n",
            "for statistical analysis. This can be achieved with the utilities of the\n",
            "``sklearn.feature_extraction.text`` as demonstrated in the following\n",
            "example that extract `TF-IDF`_ vectors of unigram tokens\n",
            "from a subset of 20news::\n",
            "\n",
            "  >>> from sklearn.feature_extraction.text import TfidfVectorizer\n",
            "  >>> categories = ['alt.atheism', 'talk.religion.misc',\n",
            "  ...               'comp.graphics', 'sci.space']\n",
            "  >>> newsgroups_train = fetch_20newsgroups(subset='train',\n",
            "  ...                                       categories=categories)\n",
            "  >>> vectorizer = TfidfVectorizer()\n",
            "  >>> vectors = vectorizer.fit_transform(newsgroups_train.data)\n",
            "  >>> vectors.shape\n",
            "  (2034, 34118)\n",
            "\n",
            "The extracted TF-IDF vectors are very sparse, with an average of 159 non-zero\n",
            "components by sample in a more than 30000-dimensional space\n",
            "(less than .5% non-zero features)::\n",
            "\n",
            "  >>> vectors.nnz / float(vectors.shape[0])\n",
            "  159.01327...\n",
            "\n",
            ":func:`sklearn.datasets.fetch_20newsgroups_vectorized` is a function which\n",
            "returns ready-to-use token counts features instead of file names.\n",
            "\n",
            ".. _`20 newsgroups website`: http://people.csail.mit.edu/jrennie/20Newsgroups/\n",
            ".. _`TF-IDF`: https://en.wikipedia.org/wiki/Tf-idf\n",
            "\n",
            "\n",
            "Filtering text for more realistic training\n",
            "~~~~~~~~~~~~~~~~~~~~~~~~~~~~~~~~~~~~~~~~~~\n",
            "\n",
            "It is easy for a classifier to overfit on particular things that appear in the\n",
            "20 Newsgroups data, such as newsgroup headers. Many classifiers achieve very\n",
            "high F-scores, but their results would not generalize to other documents that\n",
            "aren't from this window of time.\n",
            "\n",
            "For example, let's look at the results of a multinomial Naive Bayes classifier,\n",
            "which is fast to train and achieves a decent F-score::\n",
            "\n",
            "  >>> from sklearn.naive_bayes import MultinomialNB\n",
            "  >>> from sklearn import metrics\n",
            "  >>> newsgroups_test = fetch_20newsgroups(subset='test',\n",
            "  ...                                      categories=categories)\n",
            "  >>> vectors_test = vectorizer.transform(newsgroups_test.data)\n",
            "  >>> clf = MultinomialNB(alpha=.01)\n",
            "  >>> clf.fit(vectors, newsgroups_train.target)\n",
            "  MultinomialNB(alpha=0.01, class_prior=None, fit_prior=True)\n",
            "\n",
            "  >>> pred = clf.predict(vectors_test)\n",
            "  >>> metrics.f1_score(newsgroups_test.target, pred, average='macro')\n",
            "  0.88213...\n",
            "\n",
            "(The example :ref:`sphx_glr_auto_examples_text_plot_document_classification_20newsgroups.py` shuffles\n",
            "the training and test data, instead of segmenting by time, and in that case\n",
            "multinomial Naive Bayes gets a much higher F-score of 0.88. Are you suspicious\n",
            "yet of what's going on inside this classifier?)\n",
            "\n",
            "Let's take a look at what the most informative features are:\n",
            "\n",
            "  >>> import numpy as np\n",
            "  >>> def show_top10(classifier, vectorizer, categories):\n",
            "  ...     feature_names = vectorizer.get_feature_names_out()\n",
            "  ...     for i, category in enumerate(categories):\n",
            "  ...         top10 = np.argsort(classifier.coef_[i])[-10:]\n",
            "  ...         print(\"%s: %s\" % (category, \" \".join(feature_names[top10])))\n",
            "  ...\n",
            "  >>> show_top10(clf, vectorizer, newsgroups_train.target_names)\n",
            "  alt.atheism: edu it and in you that is of to the\n",
            "  comp.graphics: edu in graphics it is for and of to the\n",
            "  sci.space: edu it that is in and space to of the\n",
            "  talk.religion.misc: not it you in is that and to of the\n",
            "\n",
            "\n",
            "You can now see many things that these features have overfit to:\n",
            "\n",
            "- Almost every group is distinguished by whether headers such as\n",
            "  ``NNTP-Posting-Host:`` and ``Distribution:`` appear more or less often.\n",
            "- Another significant feature involves whether the sender is affiliated with\n",
            "  a university, as indicated either by their headers or their signature.\n",
            "- The word \"article\" is a significant feature, based on how often people quote\n",
            "  previous posts like this: \"In article [article ID], [name] <[e-mail address]>\n",
            "  wrote:\"\n",
            "- Other features match the names and e-mail addresses of particular people who\n",
            "  were posting at the time.\n",
            "\n",
            "With such an abundance of clues that distinguish newsgroups, the classifiers\n",
            "barely have to identify topics from text at all, and they all perform at the\n",
            "same high level.\n",
            "\n",
            "For this reason, the functions that load 20 Newsgroups data provide a\n",
            "parameter called **remove**, telling it what kinds of information to strip out\n",
            "of each file. **remove** should be a tuple containing any subset of\n",
            "``('headers', 'footers', 'quotes')``, telling it to remove headers, signature\n",
            "blocks, and quotation blocks respectively.\n",
            "\n",
            "  >>> newsgroups_test = fetch_20newsgroups(subset='test',\n",
            "  ...                                      remove=('headers', 'footers', 'quotes'),\n",
            "  ...                                      categories=categories)\n",
            "  >>> vectors_test = vectorizer.transform(newsgroups_test.data)\n",
            "  >>> pred = clf.predict(vectors_test)\n",
            "  >>> metrics.f1_score(pred, newsgroups_test.target, average='macro')\n",
            "  0.77310...\n",
            "\n",
            "This classifier lost over a lot of its F-score, just because we removed\n",
            "metadata that has little to do with topic classification.\n",
            "It loses even more if we also strip this metadata from the training data:\n",
            "\n",
            "  >>> newsgroups_train = fetch_20newsgroups(subset='train',\n",
            "  ...                                       remove=('headers', 'footers', 'quotes'),\n",
            "  ...                                       categories=categories)\n",
            "  >>> vectors = vectorizer.fit_transform(newsgroups_train.data)\n",
            "  >>> clf = MultinomialNB(alpha=.01)\n",
            "  >>> clf.fit(vectors, newsgroups_train.target)\n",
            "  MultinomialNB(alpha=0.01, class_prior=None, fit_prior=True)\n",
            "\n",
            "  >>> vectors_test = vectorizer.transform(newsgroups_test.data)\n",
            "  >>> pred = clf.predict(vectors_test)\n",
            "  >>> metrics.f1_score(newsgroups_test.target, pred, average='macro')\n",
            "  0.76995...\n",
            "\n",
            "Some other classifiers cope better with this harder version of the task. Try\n",
            "running :ref:`sphx_glr_auto_examples_model_selection_grid_search_text_feature_extraction.py` with and without\n",
            "the ``--filter`` option to compare the results.\n",
            "\n",
            ".. topic:: Data Considerations\n",
            "\n",
            "  The Cleveland Indians is a major league baseball team based in Cleveland,\n",
            "  Ohio, USA. In December 2020, it was reported that \"After several months of\n",
            "  discussion sparked by the death of George Floyd and a national reckoning over\n",
            "  race and colonialism, the Cleveland Indians have decided to change their\n",
            "  name.\" Team owner Paul Dolan \"did make it clear that the team will not make\n",
            "  its informal nickname -- the Tribe -- its new team name.\" \"It’s not going to\n",
            "  be a half-step away from the Indians,\" Dolan said.\"We will not have a Native\n",
            "  American-themed name.\"\n",
            "\n",
            "  https://www.mlb.com/news/cleveland-indians-team-name-change\n",
            "\n",
            ".. topic:: Recommendation\n",
            "\n",
            "  - When evaluating text classifiers on the 20 Newsgroups data, you\n",
            "    should strip newsgroup-related metadata. In scikit-learn, you can do this\n",
            "    by setting ``remove=('headers', 'footers', 'quotes')``. The F-score will be\n",
            "    lower because it is more realistic.\n",
            "  - This text dataset contains data which may be inappropriate for certain NLP\n",
            "    applications. An example is listed in the \"Data Considerations\" section\n",
            "    above. The challenge with using current text datasets in NLP for tasks such\n",
            "    as sentence completion, clustering, and other applications is that text\n",
            "    that is culturally biased and inflammatory will propagate biases. This\n",
            "    should be taken into consideration when using the dataset, reviewing the\n",
            "    output, and the bias should be documented.\n",
            "\n",
            ".. topic:: Examples\n",
            "\n",
            "   * :ref:`sphx_glr_auto_examples_model_selection_grid_search_text_feature_extraction.py`\n",
            "\n",
            "   * :ref:`sphx_glr_auto_examples_text_plot_document_classification_20newsgroups.py`\n",
            "\n"
          ]
        }
      ]
    },
    {
      "cell_type": "code",
      "metadata": {
        "id": "OhrpXCEgPNyB",
        "colab": {
          "base_uri": "https://localhost:8080/"
        },
        "outputId": "4ad255f4-c698-4947-c0c5-42d2eaeb659a"
      },
      "source": [
        "newsgroup.target"
      ],
      "execution_count": null,
      "outputs": [
        {
          "output_type": "execute_result",
          "data": {
            "text/plain": [
              "array([7, 4, 4, ..., 3, 1, 8])"
            ]
          },
          "metadata": {},
          "execution_count": 101
        }
      ]
    },
    {
      "cell_type": "markdown",
      "metadata": {
        "id": "-zmqchNfbXJQ"
      },
      "source": [
        "### 학습, 평가 데이터 분류"
      ]
    },
    {
      "cell_type": "code",
      "metadata": {
        "id": "MJkD4v5DX2l3"
      },
      "source": [
        "newsgroup_train = fetch_20newsgroups(subset = 'train')\n",
        "newsgroup_test = fetch_20newsgroups(subset = 'test')"
      ],
      "execution_count": null,
      "outputs": []
    },
    {
      "cell_type": "code",
      "metadata": {
        "id": "Xxuzr5ifcLrA"
      },
      "source": [
        "X_train, y_train = newsgroup_train.data, newsgroup_train.target\n",
        "X_test, y_test = newsgroup_test.data, newsgroup_test.target"
      ],
      "execution_count": null,
      "outputs": []
    },
    {
      "cell_type": "markdown",
      "metadata": {
        "id": "5rPb4mTPb7jA"
      },
      "source": [
        "### 벡터화\n",
        "* 텍스트 데이터는 기계학습 모델에 입력 할 수 없음\n",
        "* 벡터화는 텍스트 데이터를 실수 벡터로 변환해 기계학습 모델에 입력 할 수 있도록 하는 전처리 과정\n",
        "* Scikit-learn에서는 Count, Tf-idf, Hashing 세가지 방법을 지원"
      ]
    },
    {
      "cell_type": "markdown",
      "metadata": {
        "id": "uzzFAtzkrtio"
      },
      "source": [
        "#### CountVectorizer\n",
        "* 문서에 나온 단어의 수를 세서 벡터 생성"
      ]
    },
    {
      "cell_type": "code",
      "metadata": {
        "id": "U__Bmbm4r4ZN"
      },
      "source": [
        "count_vectorizer = CountVectorizer()"
      ],
      "execution_count": null,
      "outputs": []
    },
    {
      "cell_type": "code",
      "metadata": {
        "id": "l5qcYH2fr7BM"
      },
      "source": [
        "X_train_count = count_vectorizer.fit_transform(X_train)\n",
        "X_test_count = count_vectorizer.transform(X_test)"
      ],
      "execution_count": null,
      "outputs": []
    },
    {
      "cell_type": "markdown",
      "metadata": {
        "id": "W2C7-16Zsif2"
      },
      "source": [
        "데이터를 희소 행렬 형태로 표현"
      ]
    },
    {
      "cell_type": "code",
      "metadata": {
        "id": "Nwmww2sOsEPV",
        "colab": {
          "base_uri": "https://localhost:8080/"
        },
        "outputId": "49731e86-ed69-488a-c59f-e6a97f7612bc"
      },
      "source": [
        "X_train_count"
      ],
      "execution_count": null,
      "outputs": [
        {
          "output_type": "execute_result",
          "data": {
            "text/plain": [
              "<11314x130107 sparse matrix of type '<class 'numpy.int64'>'\n",
              "\twith 1787565 stored elements in Compressed Sparse Row format>"
            ]
          },
          "metadata": {},
          "execution_count": 106
        }
      ]
    },
    {
      "cell_type": "code",
      "metadata": {
        "id": "ie5eSVH3sH3I",
        "colab": {
          "base_uri": "https://localhost:8080/"
        },
        "outputId": "136c3d49-ff6b-4959-abce-51d8a3e78c1b"
      },
      "source": [
        "for v in X_train_count[0]:\n",
        "  print(v)"
      ],
      "execution_count": null,
      "outputs": [
        {
          "output_type": "stream",
          "name": "stdout",
          "text": [
            "  (0, 56979)\t3\n",
            "  (0, 75358)\t2\n",
            "  (0, 123162)\t2\n",
            "  (0, 118280)\t2\n",
            "  (0, 50527)\t2\n",
            "  (0, 124031)\t2\n",
            "  (0, 85354)\t1\n",
            "  (0, 114688)\t1\n",
            "  (0, 111322)\t1\n",
            "  (0, 123984)\t1\n",
            "  (0, 37780)\t5\n",
            "  (0, 68532)\t3\n",
            "  (0, 114731)\t5\n",
            "  (0, 87620)\t1\n",
            "  (0, 95162)\t1\n",
            "  (0, 64095)\t1\n",
            "  (0, 98949)\t1\n",
            "  (0, 90379)\t1\n",
            "  (0, 118983)\t1\n",
            "  (0, 89362)\t3\n",
            "  (0, 79666)\t1\n",
            "  (0, 40998)\t1\n",
            "  (0, 92081)\t1\n",
            "  (0, 76032)\t1\n",
            "  (0, 4605)\t1\n",
            "  :\t:\n",
            "  (0, 37565)\t1\n",
            "  (0, 113986)\t1\n",
            "  (0, 83256)\t1\n",
            "  (0, 86001)\t1\n",
            "  (0, 51730)\t1\n",
            "  (0, 109271)\t1\n",
            "  (0, 128026)\t1\n",
            "  (0, 96144)\t1\n",
            "  (0, 78784)\t1\n",
            "  (0, 63363)\t1\n",
            "  (0, 90252)\t1\n",
            "  (0, 123989)\t1\n",
            "  (0, 67156)\t1\n",
            "  (0, 128402)\t2\n",
            "  (0, 62221)\t1\n",
            "  (0, 57308)\t1\n",
            "  (0, 76722)\t1\n",
            "  (0, 94362)\t1\n",
            "  (0, 78955)\t1\n",
            "  (0, 114428)\t1\n",
            "  (0, 66098)\t1\n",
            "  (0, 35187)\t1\n",
            "  (0, 35983)\t1\n",
            "  (0, 128420)\t1\n",
            "  (0, 86580)\t1\n"
          ]
        }
      ]
    },
    {
      "cell_type": "markdown",
      "metadata": {
        "id": "VuCz2fvdtLR2"
      },
      "source": [
        "#### HashingVectorizer\n",
        "* 각 단어를 해쉬 값으로 표현\n",
        "* 미리 정해진 크기의 벡터로 표현"
      ]
    },
    {
      "cell_type": "code",
      "metadata": {
        "id": "0a6w_5b4u2iU"
      },
      "source": [
        "hash_vectorizer = HashingVectorizer(n_features = 1000)"
      ],
      "execution_count": null,
      "outputs": []
    },
    {
      "cell_type": "code",
      "metadata": {
        "id": "Ru_bF-tuveCJ"
      },
      "source": [
        "X_train_hash  = hash_vectorizer.fit_transform(X_train)\n",
        "X_test_hash = hash_vectorizer.transform(X_test)"
      ],
      "execution_count": null,
      "outputs": []
    },
    {
      "cell_type": "code",
      "metadata": {
        "id": "F4FICW1kvyR2",
        "colab": {
          "base_uri": "https://localhost:8080/"
        },
        "outputId": "5b484ac1-84fe-4244-d81c-3fa17c8d265d"
      },
      "source": [
        "X_train_hash"
      ],
      "execution_count": null,
      "outputs": [
        {
          "output_type": "execute_result",
          "data": {
            "text/plain": [
              "<11314x1000 sparse matrix of type '<class 'numpy.float64'>'\n",
              "\twith 1550687 stored elements in Compressed Sparse Row format>"
            ]
          },
          "metadata": {},
          "execution_count": 110
        }
      ]
    },
    {
      "cell_type": "code",
      "metadata": {
        "id": "xN5aaCjov0Zb",
        "colab": {
          "base_uri": "https://localhost:8080/"
        },
        "outputId": "797830a9-8010-4d66-e923-5ff106bebe6b"
      },
      "source": [
        "print(X_train_hash)"
      ],
      "execution_count": null,
      "outputs": [
        {
          "output_type": "stream",
          "name": "stdout",
          "text": [
            "  (0, 80)\t-0.0642824346533225\n",
            "  (0, 108)\t0.0642824346533225\n",
            "  (0, 111)\t-0.128564869306645\n",
            "  (0, 145)\t0.0642824346533225\n",
            "  (0, 158)\t0.0642824346533225\n",
            "  (0, 159)\t-0.0642824346533225\n",
            "  (0, 161)\t0.0642824346533225\n",
            "  (0, 165)\t-0.0642824346533225\n",
            "  (0, 171)\t0.0642824346533225\n",
            "  (0, 182)\t0.0642824346533225\n",
            "  (0, 195)\t-0.0642824346533225\n",
            "  (0, 196)\t0.19284730395996752\n",
            "  (0, 205)\t-0.0642824346533225\n",
            "  (0, 209)\t0.0642824346533225\n",
            "  (0, 234)\t0.0642824346533225\n",
            "  (0, 237)\t0.0642824346533225\n",
            "  (0, 248)\t0.0642824346533225\n",
            "  (0, 265)\t0.19284730395996752\n",
            "  (0, 274)\t0.0642824346533225\n",
            "  (0, 277)\t0.19284730395996752\n",
            "  (0, 284)\t-0.0642824346533225\n",
            "  (0, 286)\t-0.0642824346533225\n",
            "  (0, 296)\t0.0642824346533225\n",
            "  (0, 362)\t-0.0642824346533225\n",
            "  (0, 364)\t-0.0642824346533225\n",
            "  :\t:\n",
            "  (11313, 620)\t0.09622504486493763\n",
            "  (11313, 622)\t-0.19245008972987526\n",
            "  (11313, 636)\t-0.09622504486493763\n",
            "  (11313, 640)\t-0.09622504486493763\n",
            "  (11313, 682)\t0.09622504486493763\n",
            "  (11313, 697)\t-0.19245008972987526\n",
            "  (11313, 710)\t-0.09622504486493763\n",
            "  (11313, 731)\t0.09622504486493763\n",
            "  (11313, 733)\t-0.09622504486493763\n",
            "  (11313, 747)\t-0.09622504486493763\n",
            "  (11313, 761)\t-0.09622504486493763\n",
            "  (11313, 797)\t-0.09622504486493763\n",
            "  (11313, 812)\t-0.09622504486493763\n",
            "  (11313, 845)\t-0.28867513459481287\n",
            "  (11313, 849)\t0.09622504486493763\n",
            "  (11313, 855)\t0.19245008972987526\n",
            "  (11313, 868)\t-0.09622504486493763\n",
            "  (11313, 869)\t0.09622504486493763\n",
            "  (11313, 894)\t0.09622504486493763\n",
            "  (11313, 918)\t0.09622504486493763\n",
            "  (11313, 935)\t0.09622504486493763\n",
            "  (11313, 958)\t-0.09622504486493763\n",
            "  (11313, 960)\t0.09622504486493763\n",
            "  (11313, 965)\t-0.09622504486493763\n",
            "  (11313, 975)\t-0.19245008972987526\n"
          ]
        }
      ]
    },
    {
      "cell_type": "markdown",
      "metadata": {
        "id": "Jo_5elqewPmi"
      },
      "source": [
        "#### TfidfVectorizer\n",
        "* 문서에 나온 단어 빈도(term frequency)와 역문서 빈도(inverse document frequency)를 곱해서 구함\n",
        "* 각 빈도는 일반적으로 로그 스케일링 후 사용\n",
        "* $tf(t, d) = log(f(t, d) + 1)$\n",
        "* $idf(t, D) = \\frac{|D|}{|d \\in D : t \\in d| + 1}$\n",
        "* $tfidf(t, d, D) = tf(t, d) \\times idf(t, D)$"
      ]
    },
    {
      "cell_type": "code",
      "metadata": {
        "id": "se6YLbOBb9yd"
      },
      "source": [
        "tfidf_vectorizer = TfidfVectorizer()"
      ],
      "execution_count": null,
      "outputs": []
    },
    {
      "cell_type": "code",
      "metadata": {
        "id": "BCB_vPEUcqSi"
      },
      "source": [
        "X_train_tfidf = tfidf_vectorizer.fit_transform(X_train)\n",
        "X_test_tfidf = tfidf_vectorizer.transform(X_test)"
      ],
      "execution_count": null,
      "outputs": []
    },
    {
      "cell_type": "code",
      "metadata": {
        "id": "31lIqMzz0b4C",
        "colab": {
          "base_uri": "https://localhost:8080/"
        },
        "outputId": "3aff9a1e-636d-459e-bfb2-ec87019c1904"
      },
      "source": [
        "X_train_tfidf"
      ],
      "execution_count": null,
      "outputs": [
        {
          "output_type": "execute_result",
          "data": {
            "text/plain": [
              "<11314x130107 sparse matrix of type '<class 'numpy.float64'>'\n",
              "\twith 1787565 stored elements in Compressed Sparse Row format>"
            ]
          },
          "metadata": {},
          "execution_count": 114
        }
      ]
    },
    {
      "cell_type": "code",
      "metadata": {
        "id": "1fgodSTr0gEd",
        "colab": {
          "base_uri": "https://localhost:8080/"
        },
        "outputId": "dc508490-0f3a-4b49-c83d-dd3c81244998"
      },
      "source": [
        "for v in X_train_tfidf[0]:\n",
        "  print(v)"
      ],
      "execution_count": null,
      "outputs": [
        {
          "output_type": "stream",
          "name": "stdout",
          "text": [
            "  (0, 86580)\t0.13157118714240987\n",
            "  (0, 128420)\t0.04278499079283093\n",
            "  (0, 35983)\t0.03770448563619875\n",
            "  (0, 35187)\t0.09353930598317124\n",
            "  (0, 66098)\t0.09785515708314481\n",
            "  (0, 114428)\t0.05511105154696676\n",
            "  (0, 78955)\t0.05989856888061599\n",
            "  (0, 94362)\t0.055457031390147224\n",
            "  (0, 76722)\t0.06908779999621749\n",
            "  (0, 57308)\t0.1558717009157704\n",
            "  (0, 62221)\t0.02921527992427867\n",
            "  (0, 128402)\t0.05922294083277842\n",
            "  (0, 67156)\t0.07313443922740179\n",
            "  (0, 123989)\t0.08207027465330353\n",
            "  (0, 90252)\t0.031889368795417566\n",
            "  (0, 63363)\t0.08342748387969037\n",
            "  (0, 78784)\t0.0633940918806495\n",
            "  (0, 96144)\t0.10826904490745741\n",
            "  (0, 128026)\t0.060622095889758885\n",
            "  (0, 109271)\t0.10844724822064673\n",
            "  (0, 51730)\t0.09714744057976722\n",
            "  (0, 86001)\t0.07000411445838192\n",
            "  (0, 83256)\t0.08844382496462173\n",
            "  (0, 113986)\t0.17691750674853082\n",
            "  (0, 37565)\t0.03431760442478462\n",
            "  :\t:\n",
            "  (0, 4605)\t0.06332603952480323\n",
            "  (0, 76032)\t0.019219463052223086\n",
            "  (0, 92081)\t0.09913274493911223\n",
            "  (0, 40998)\t0.0780136819691811\n",
            "  (0, 79666)\t0.10936401252414274\n",
            "  (0, 89362)\t0.06521174306303763\n",
            "  (0, 118983)\t0.037085978050619146\n",
            "  (0, 90379)\t0.019928859956645867\n",
            "  (0, 98949)\t0.16068606055394932\n",
            "  (0, 64095)\t0.03542092427131355\n",
            "  (0, 95162)\t0.03447138409326312\n",
            "  (0, 87620)\t0.035671863140815795\n",
            "  (0, 114731)\t0.14447275512784058\n",
            "  (0, 68532)\t0.07325812342131596\n",
            "  (0, 37780)\t0.38133891259493113\n",
            "  (0, 123984)\t0.036854292634593756\n",
            "  (0, 111322)\t0.01915671802495043\n",
            "  (0, 114688)\t0.06214070986309586\n",
            "  (0, 85354)\t0.03696978508816316\n",
            "  (0, 124031)\t0.10798795154169122\n",
            "  (0, 50527)\t0.054614286588587246\n",
            "  (0, 118280)\t0.2118680720828169\n",
            "  (0, 123162)\t0.2597090245735688\n",
            "  (0, 75358)\t0.35383501349706165\n",
            "  (0, 56979)\t0.057470154074851294\n"
          ]
        }
      ]
    },
    {
      "cell_type": "markdown",
      "metadata": {
        "id": "Dw1V6JPISYNj"
      },
      "source": [
        "## 가우시안 나이브 베이즈\n",
        "\n",
        "* 입력 특성이 가우시안(정규) 분포를 갖는다고 가정"
      ]
    },
    {
      "cell_type": "code",
      "metadata": {
        "id": "HxluuRDrfEE-",
        "colab": {
          "base_uri": "https://localhost:8080/"
        },
        "outputId": "4049a0c8-e90c-4a28-f64a-8688e769c403"
      },
      "source": [
        "model = GaussianNB()\n",
        "model.fit(covtype_X_train_scale, covtype_y_train)"
      ],
      "execution_count": null,
      "outputs": [
        {
          "output_type": "execute_result",
          "data": {
            "text/plain": [
              "GaussianNB()"
            ]
          },
          "metadata": {},
          "execution_count": 116
        }
      ]
    },
    {
      "cell_type": "code",
      "metadata": {
        "id": "RHlxf5Uvur1s",
        "colab": {
          "base_uri": "https://localhost:8080/"
        },
        "outputId": "77806f80-8ad0-43cf-d010-d28bd91c6a46"
      },
      "source": [
        "predict = model.predict(covtype_X_train_scale)\n",
        "acc = metrics.accuracy_score(covtype_y_train, predict)\n",
        "f1 = metrics.f1_score(covtype_y_train, predict, average = None)\n",
        "\n",
        "print('Train Accuracy : {}'.format(acc))\n",
        "print('Train F1 score : {}'.format(f1))"
      ],
      "execution_count": null,
      "outputs": [
        {
          "output_type": "stream",
          "name": "stdout",
          "text": [
            "Train Accuracy : 0.08819751769006194\n",
            "Train F1 score : [0.03978925 0.01801794 0.3351827  0.13955826 0.0439224  0.0716707\n",
            " 0.23479097]\n"
          ]
        }
      ]
    },
    {
      "cell_type": "code",
      "metadata": {
        "id": "PRkCzNTavChE",
        "colab": {
          "base_uri": "https://localhost:8080/"
        },
        "outputId": "fe5be247-f33b-40fb-982e-474607875e7c"
      },
      "source": [
        "predict = model.predict(covtype_X_test_scale)\n",
        "acc = metrics.accuracy_score(covtype_y_test, predict)\n",
        "f1 = metrics.f1_score(covtype_y_test, predict, average = None)\n",
        "\n",
        "print('Test Accuracy : {}'.format(acc))\n",
        "print('Test F1 score : {}'.format(f1))"
      ],
      "execution_count": null,
      "outputs": [
        {
          "output_type": "stream",
          "name": "stdout",
          "text": [
            "Test Accuracy : 0.08798395910604717\n",
            "Test F1 score : [0.04301383 0.0176818  0.3342077  0.13345173 0.04270584 0.06899436\n",
            " 0.23448744]\n"
          ]
        }
      ]
    },
    {
      "cell_type": "code",
      "metadata": {
        "id": "c7LlOoOU4oos"
      },
      "source": [
        "import matplotlib.pyplot as plt\n",
        "plt.style.use(['seaborn-whitegrid'])\n",
        "from sklearn.datasets import make_blobs"
      ],
      "execution_count": null,
      "outputs": []
    },
    {
      "cell_type": "code",
      "metadata": {
        "id": "BQmypOJ07flk"
      },
      "source": [
        "def make_meshgrid(x, y, h = .02):\n",
        "  x_min, x_max = x.min()-1, x.max()+1\n",
        "  y_min, y_max = y.min()-1, y.max()+1\n",
        "  xx, yy = np.meshgrid(np.arange(x_min, x_max, h),\n",
        "                       np.arange(y_min, y_max, h))\n",
        "  \n",
        "  return xx, yy\n",
        "\n",
        "def plot_contours(clf, xx, yy, **params):\n",
        "  Z = clf.predict(np.c_[xx.ravel(), yy.ravel()])\n",
        "  Z = Z.reshape(xx.shape)\n",
        "  out = plt.contourf(xx, yy, Z, **params)\n",
        "\n",
        "  return out"
      ],
      "execution_count": null,
      "outputs": []
    },
    {
      "cell_type": "code",
      "metadata": {
        "id": "i5cVrpkP43Uq"
      },
      "source": [
        "X, y = make_blobs(n_samples = 1000)"
      ],
      "execution_count": null,
      "outputs": []
    },
    {
      "cell_type": "code",
      "metadata": {
        "id": "uWAIT1YZ5IPK",
        "colab": {
          "base_uri": "https://localhost:8080/",
          "height": 262
        },
        "outputId": "e1e09bb2-df7e-43d4-c1a1-c541c35f2dd1"
      },
      "source": [
        "plt.scatter(X[:,0], X[:,1], c = y, cmap = plt.cm.coolwarm, s = 20, edgecolors = 'k');"
      ],
      "execution_count": null,
      "outputs": [
        {
          "output_type": "display_data",
          "data": {
            "text/plain": [
              "<Figure size 432x288 with 1 Axes>"
            ],
            "image/png": "[encoded data removed]"
          },
          "metadata": {}
        }
      ]
    },
    {
      "cell_type": "code",
      "metadata": {
        "id": "yyh8EaLW8BcK",
        "colab": {
          "base_uri": "https://localhost:8080/"
        },
        "outputId": "0dbb11c1-56c3-4f32-a2f9-1839efebe35c"
      },
      "source": [
        "model = GaussianNB()\n",
        "model.fit(X,y)"
      ],
      "execution_count": null,
      "outputs": [
        {
          "output_type": "execute_result",
          "data": {
            "text/plain": [
              "GaussianNB()"
            ]
          },
          "metadata": {},
          "execution_count": 123
        }
      ]
    },
    {
      "cell_type": "code",
      "metadata": {
        "id": "6rOYltZx7mdM",
        "colab": {
          "base_uri": "https://localhost:8080/",
          "height": 280
        },
        "outputId": "f2e97d9e-4cbd-4d5b-e176-88ed9b1c0f24"
      },
      "source": [
        "xx, yy = make_meshgrid(X[:,], X[:,1])\n",
        "plot_contours(model, xx, yy, cmap = plt.cm.coolwarm, alpha = 0.8)\n",
        "plt.scatter(X[:,0], X[:,1], c = y, cmap = plt.cm.coolwarm, s = 20 ,edgecolor = 'k')"
      ],
      "execution_count": null,
      "outputs": [
        {
          "output_type": "execute_result",
          "data": {
            "text/plain": [
              "<matplotlib.collections.PathCollection at 0x7f485a16ae90>"
            ]
          },
          "metadata": {},
          "execution_count": 124
        },
        {
          "output_type": "display_data",
          "data": {
            "text/plain": [
              "<Figure size 432x288 with 1 Axes>"
            ],
            "image/png": "[encoded data removed]"
          },
          "metadata": {}
        }
      ]
    },
    {
      "cell_type": "markdown",
      "metadata": {
        "id": "63VKVU7xVKh0"
      },
      "source": [
        "## 베르누이 나이브 베이즈\n",
        "\n",
        "* 입력 특성이 베르누이 분포에 의해 생성된 이진 값을 갖는 다고 가정"
      ]
    },
    {
      "cell_type": "markdown",
      "metadata": {
        "id": "ukxegxdakI06"
      },
      "source": [
        "### 학습 및 평가 (Count)"
      ]
    },
    {
      "cell_type": "code",
      "metadata": {
        "id": "MY1gkbgZWPSy",
        "colab": {
          "base_uri": "https://localhost:8080/"
        },
        "outputId": "b1610ec1-9bc8-4c6f-849f-9753758ab87f"
      },
      "source": [
        "model = BernoulliNB()\n",
        "model.fit(X_train_count, y_train)"
      ],
      "execution_count": null,
      "outputs": [
        {
          "output_type": "execute_result",
          "data": {
            "text/plain": [
              "BernoulliNB()"
            ]
          },
          "metadata": {},
          "execution_count": 125
        }
      ]
    },
    {
      "cell_type": "code",
      "metadata": {
        "id": "cFFYkHXkgLgC",
        "colab": {
          "base_uri": "https://localhost:8080/"
        },
        "outputId": "7c01b731-aee3-407e-d24d-89ce455538b3"
      },
      "source": [
        "predict = model.predict(X_train_count)\n",
        "acc = metrics.accuracy_score(y_train, predict)\n",
        "f1 = metrics.f1_score(y_train, predict, average = None)\n",
        "\n",
        "print(\"Train Accuracy : {}\".format(acc))\n",
        "print(\"Train F1 Score : {}\".format(f1))"
      ],
      "execution_count": null,
      "outputs": [
        {
          "output_type": "stream",
          "name": "stdout",
          "text": [
            "Train Accuracy : 0.7821283365741559\n",
            "Train F1 Score : [0.80096502 0.8538398  0.13858268 0.70686337 0.85220126 0.87944493\n",
            " 0.51627694 0.84532672 0.89064976 0.87179487 0.94561404 0.91331546\n",
            " 0.84627832 0.89825848 0.9047619  0.79242424 0.84693878 0.84489796\n",
            " 0.67329545 0.14742015]\n"
          ]
        }
      ]
    },
    {
      "cell_type": "code",
      "metadata": {
        "id": "rtT6NPFAjfto",
        "colab": {
          "base_uri": "https://localhost:8080/"
        },
        "outputId": "f0de161f-ef1b-4083-df17-1d77ec1784ec"
      },
      "source": [
        "predict = model.predict(X_test_count)\n",
        "acc = metrics.accuracy_score(y_test, predict)\n",
        "f1 = metrics.f1_score(y_test, predict, average = None)\n",
        "\n",
        "print(\"Test Accuracy : {}\".format(acc))\n",
        "print(\"Test F1 Score : {}\".format(f1))"
      ],
      "execution_count": null,
      "outputs": [
        {
          "output_type": "stream",
          "name": "stdout",
          "text": [
            "Test Accuracy : 0.6307753584705258\n",
            "Test F1 Score : [0.47086247 0.60643564 0.01       0.56014047 0.6953405  0.70381232\n",
            " 0.44829721 0.71878646 0.81797753 0.81893491 0.90287278 0.74794521\n",
            " 0.61647059 0.64174455 0.76967096 0.63555114 0.64285714 0.77971474\n",
            " 0.31382979 0.00793651]\n"
          ]
        }
      ]
    },
    {
      "cell_type": "markdown",
      "metadata": {
        "id": "0TZnffru9JVK"
      },
      "source": [
        "### 학습 및 평가 (Hash)"
      ]
    },
    {
      "cell_type": "code",
      "metadata": {
        "id": "j_mVW1So9M0c",
        "colab": {
          "base_uri": "https://localhost:8080/"
        },
        "outputId": "e3cd0bb0-72a2-4238-eaf3-c95e85cc54c9"
      },
      "source": [
        "model = BernoulliNB()\n",
        "model.fit(X_train_hash, y_train)"
      ],
      "execution_count": null,
      "outputs": [
        {
          "output_type": "execute_result",
          "data": {
            "text/plain": [
              "BernoulliNB()"
            ]
          },
          "metadata": {},
          "execution_count": 128
        }
      ]
    },
    {
      "cell_type": "code",
      "metadata": {
        "id": "t8b4dNF39SC6",
        "colab": {
          "base_uri": "https://localhost:8080/"
        },
        "outputId": "891491c4-9794-4604-da9e-8655eed1b127"
      },
      "source": [
        "predict = model.predict(X_train_hash)\n",
        "acc = metrics.accuracy_score(y_train, predict)\n",
        "f1 = metrics.f1_score(y_train, predict, average = None)\n",
        "\n",
        "print(\"Train Accuracy : {}\".format(acc))\n",
        "print(\"Train F1 Score : {}\".format(f1))"
      ],
      "execution_count": null,
      "outputs": [
        {
          "output_type": "stream",
          "name": "stdout",
          "text": [
            "Train Accuracy : 0.5951917977726711\n",
            "Train F1 Score : [0.74226804 0.49415205 0.45039019 0.59878155 0.57327935 0.63929619\n",
            " 0.35390947 0.59851301 0.72695347 0.68123862 0.79809524 0.70532319\n",
            " 0.54703833 0.66862745 0.61889927 0.74707471 0.6518668  0.60485269\n",
            " 0.5324165  0.54576271]\n"
          ]
        }
      ]
    },
    {
      "cell_type": "code",
      "metadata": {
        "id": "vpjYy1Pi9dxc",
        "colab": {
          "base_uri": "https://localhost:8080/"
        },
        "outputId": "3635be8e-be34-4ccc-fd4b-6f6c9990e8d4"
      },
      "source": [
        "predict = model.predict(X_test_hash)\n",
        "acc = metrics.accuracy_score(y_test, predict)\n",
        "f1 = metrics.f1_score(y_test, predict, average = None)\n",
        "\n",
        "print(\"Test Accuracy : {}\".format(acc))\n",
        "print(\"Test F1 Score : {}\".format(f1))"
      ],
      "execution_count": null,
      "outputs": [
        {
          "output_type": "stream",
          "name": "stdout",
          "text": [
            "Test Accuracy : 0.4430430164630908\n",
            "Test F1 Score : [0.46678636 0.33826638 0.29391892 0.45743329 0.41939121 0.46540881\n",
            " 0.34440068 0.46464646 0.62849873 0.53038674 0.63782051 0.55251799\n",
            " 0.32635983 0.34266886 0.46105919 0.61780105 0.46197991 0.54591837\n",
            " 0.27513228 0.3307888 ]\n"
          ]
        }
      ]
    },
    {
      "cell_type": "markdown",
      "metadata": {
        "id": "cTP0dYKlkOLR"
      },
      "source": [
        "### 학습 및 평가 (Tf-idf)"
      ]
    },
    {
      "cell_type": "code",
      "metadata": {
        "id": "A7TElQGCjMMb",
        "colab": {
          "base_uri": "https://localhost:8080/"
        },
        "outputId": "1ecc0d91-9c90-42ff-f00d-445b3079943a"
      },
      "source": [
        "model = BernoulliNB()\n",
        "model.fit(X_train_tfidf, y_train)"
      ],
      "execution_count": null,
      "outputs": [
        {
          "output_type": "execute_result",
          "data": {
            "text/plain": [
              "BernoulliNB()"
            ]
          },
          "metadata": {},
          "execution_count": 131
        }
      ]
    },
    {
      "cell_type": "code",
      "metadata": {
        "id": "q5XRlZVujO_x",
        "colab": {
          "base_uri": "https://localhost:8080/"
        },
        "outputId": "b73a3969-2b9b-416d-f94b-c59cd1d4f38b"
      },
      "source": [
        "predict = model.predict(X_train_tfidf)\n",
        "acc = metrics.accuracy_score(y_train, predict)\n",
        "f1 = metrics.f1_score(y_train, predict, average = None)\n",
        "\n",
        "print(\"Train Accuracy : {}\".format(acc))\n",
        "print(\"Train F1 Score : {}\".format(f1))"
      ],
      "execution_count": null,
      "outputs": [
        {
          "output_type": "stream",
          "name": "stdout",
          "text": [
            "Train Accuracy : 0.7821283365741559\n",
            "Train F1 Score : [0.80096502 0.8538398  0.13858268 0.70686337 0.85220126 0.87944493\n",
            " 0.51627694 0.84532672 0.89064976 0.87179487 0.94561404 0.91331546\n",
            " 0.84627832 0.89825848 0.9047619  0.79242424 0.84693878 0.84489796\n",
            " 0.67329545 0.14742015]\n"
          ]
        }
      ]
    },
    {
      "cell_type": "code",
      "metadata": {
        "id": "rSFVn5ggjqgg",
        "colab": {
          "base_uri": "https://localhost:8080/"
        },
        "outputId": "d4c483c6-11c4-4e70-e806-2c248c4977b0"
      },
      "source": [
        "predict = model.predict(X_test_tfidf)\n",
        "acc = metrics.accuracy_score(y_test, predict)\n",
        "f1 = metrics.f1_score(y_test, predict, average = None)\n",
        "\n",
        "print(\"Test Accuracy : {}\".format(acc))\n",
        "print(\"Test F1 Score : {}\".format(f1))"
      ],
      "execution_count": null,
      "outputs": [
        {
          "output_type": "stream",
          "name": "stdout",
          "text": [
            "Test Accuracy : 0.6307753584705258\n",
            "Test F1 Score : [0.47086247 0.60643564 0.01       0.56014047 0.6953405  0.70381232\n",
            " 0.44829721 0.71878646 0.81797753 0.81893491 0.90287278 0.74794521\n",
            " 0.61647059 0.64174455 0.76967096 0.63555114 0.64285714 0.77971474\n",
            " 0.31382979 0.00793651]\n"
          ]
        }
      ]
    },
    {
      "cell_type": "markdown",
      "metadata": {
        "id": "rCwhaAT1924_"
      },
      "source": [
        "### 시각화"
      ]
    },
    {
      "cell_type": "code",
      "metadata": {
        "id": "5yzCFaKy9-5u"
      },
      "source": [
        "X, y = make_blobs(n_samples = 1000)"
      ],
      "execution_count": null,
      "outputs": []
    },
    {
      "cell_type": "code",
      "metadata": {
        "id": "Szx9XA-O9_qF",
        "colab": {
          "base_uri": "https://localhost:8080/",
          "height": 262
        },
        "outputId": "e2cf6ffc-3230-4884-91e3-65c4a5129a6a"
      },
      "source": [
        "plt.scatter(X[:,0], X[:,1], c = y, cmap = plt.cm.coolwarm, s = 20, edgecolor = 'k');"
      ],
      "execution_count": null,
      "outputs": [
        {
          "output_type": "display_data",
          "data": {
            "text/plain": [
              "<Figure size 432x288 with 1 Axes>"
            ],
            "image/png": "[encoded data removed]"
          },
          "metadata": {}
        }
      ]
    },
    {
      "cell_type": "code",
      "metadata": {
        "id": "yQFM2BEU-Cv2",
        "colab": {
          "base_uri": "https://localhost:8080/"
        },
        "outputId": "4d0957d2-5972-4b31-b159-a744fa1841a2"
      },
      "source": [
        "model = BernoulliNB()\n",
        "model.fit(X, y)"
      ],
      "execution_count": null,
      "outputs": [
        {
          "output_type": "execute_result",
          "data": {
            "text/plain": [
              "BernoulliNB()"
            ]
          },
          "metadata": {},
          "execution_count": 136
        }
      ]
    },
    {
      "cell_type": "code",
      "metadata": {
        "id": "fEpjHMVf-HfD",
        "colab": {
          "base_uri": "https://localhost:8080/",
          "height": 282
        },
        "outputId": "fa1c3247-e07f-4640-e709-4fe9ccb18e2c"
      },
      "source": [
        "xx, yy = make_meshgrid(X[:,0], X[:,1])\n",
        "plot_contours(model, xx, yy, cmap = plt.cm.coolwarm, alpha = 0.8)\n",
        "plt.scatter(X[:,0], X[:,1], c = y, cmap = plt.cm.coolwarm, s = 20, edgecolors = 'k')"
      ],
      "execution_count": null,
      "outputs": [
        {
          "output_type": "execute_result",
          "data": {
            "text/plain": [
              "<matplotlib.collections.PathCollection at 0x7f485a18bb90>"
            ]
          },
          "metadata": {},
          "execution_count": 137
        },
        {
          "output_type": "display_data",
          "data": {
            "text/plain": [
              "<Figure size 432x288 with 1 Axes>"
            ],
            "image/png": "[encoded data removed]"
          },
          "metadata": {}
        }
      ]
    },
    {
      "cell_type": "markdown",
      "metadata": {
        "id": "zEyFa-B5XGrP"
      },
      "source": [
        "## 다항 나이브 베이즈\n",
        "\n",
        "* 입력 특성이 다항분포에 의해 생성된 빈도수 값을 갖는 다고 가정"
      ]
    },
    {
      "cell_type": "markdown",
      "metadata": {
        "id": "75lWu6PQlXpi"
      },
      "source": [
        "### 학습 및 평가 (Count)"
      ]
    },
    {
      "cell_type": "code",
      "metadata": {
        "id": "FRlaJMtNNLMC",
        "colab": {
          "base_uri": "https://localhost:8080/"
        },
        "outputId": "9391f4cd-3abd-4ac7-f0b5-7bcedc7e00cd"
      },
      "source": [
        "model = MultinomialNB()\n",
        "model.fit(X_train_count, y_train)"
      ],
      "execution_count": null,
      "outputs": [
        {
          "output_type": "execute_result",
          "data": {
            "text/plain": [
              "MultinomialNB()"
            ]
          },
          "metadata": {},
          "execution_count": 138
        }
      ]
    },
    {
      "cell_type": "code",
      "metadata": {
        "id": "TLS0R7q6UPt7",
        "colab": {
          "base_uri": "https://localhost:8080/"
        },
        "outputId": "02164a0f-7a54-42db-f607-d398a51683eb"
      },
      "source": [
        "predict = model.predict(X_train_count)\n",
        "acc = metrics.accuracy_score(y_train, predict)\n",
        "f1 = metrics.f1_score(y_train, predict, average = None)\n",
        "\n",
        "print(\"Train Acuuracy : {}\".format(acc))\n",
        "print(\"Train F1 Score : {}\".format(f1))"
      ],
      "execution_count": null,
      "outputs": [
        {
          "output_type": "stream",
          "name": "stdout",
          "text": [
            "Train Acuuracy : 0.9245182959165635\n",
            "Train F1 Score : [0.95228426 0.904      0.25073746 0.81402003 0.96669513 0.88350983\n",
            " 0.90710383 0.97014925 0.98567818 0.99325464 0.98423237 0.95399516\n",
            " 0.95703454 0.98319328 0.98584513 0.95352564 0.97307002 0.97467249\n",
            " 0.95157895 0.86526946]\n"
          ]
        }
      ]
    },
    {
      "cell_type": "code",
      "metadata": {
        "id": "L_WeeHT0lRil",
        "colab": {
          "base_uri": "https://localhost:8080/"
        },
        "outputId": "92db4699-fb79-4300-e8e3-6acdf7358f39"
      },
      "source": [
        "predict = model.predict(X_test_count)\n",
        "acc = metrics.accuracy_score(y_test, predict)\n",
        "f1 = metrics.f1_score(y_test, predict, average = None)\n",
        "\n",
        "print(\"Test Acuuracy : {}\".format(acc))\n",
        "print(\"Test F1 Score : {}\".format(f1))"
      ],
      "execution_count": null,
      "outputs": [
        {
          "output_type": "stream",
          "name": "stdout",
          "text": [
            "Test Acuuracy : 0.7728359001593202\n",
            "Test F1 Score : [0.77901431 0.7008547  0.00501253 0.64516129 0.79178082 0.73370166\n",
            " 0.76550681 0.88779285 0.93951094 0.91390728 0.94594595 0.78459938\n",
            " 0.72299169 0.84635417 0.86029412 0.80846561 0.78665077 0.89281211\n",
            " 0.60465116 0.48695652]\n"
          ]
        }
      ]
    },
    {
      "cell_type": "markdown",
      "metadata": {
        "id": "S77kYdhjly0t"
      },
      "source": [
        "### 학습 및 평가 (Tf-idf)"
      ]
    },
    {
      "cell_type": "code",
      "metadata": {
        "id": "CnFaY_MSlVMb",
        "colab": {
          "base_uri": "https://localhost:8080/"
        },
        "outputId": "3345a670-b00c-425c-8c3b-85fdbfb789b9"
      },
      "source": [
        "model = MultinomialNB()\n",
        "model.fit(X_train_tfidf, y_train)"
      ],
      "execution_count": null,
      "outputs": [
        {
          "output_type": "execute_result",
          "data": {
            "text/plain": [
              "MultinomialNB()"
            ]
          },
          "metadata": {},
          "execution_count": 141
        }
      ]
    },
    {
      "cell_type": "code",
      "metadata": {
        "id": "5jTi-ABxl32n",
        "colab": {
          "base_uri": "https://localhost:8080/"
        },
        "outputId": "7a3b5e5d-effe-47c9-faa7-e1d6ea7d0545"
      },
      "source": [
        "predict = model.predict(X_train_tfidf)\n",
        "acc = metrics.accuracy_score(y_train, predict)\n",
        "f1 = metrics.f1_score(y_train, predict, average = None)\n",
        "\n",
        "print(\"Train Acuuracy : {}\".format(acc))\n",
        "print(\"Train F1 Score : {}\".format(f1))"
      ],
      "execution_count": null,
      "outputs": [
        {
          "output_type": "stream",
          "name": "stdout",
          "text": [
            "Train Acuuracy : 0.9326498143892522\n",
            "Train F1 Score : [0.87404162 0.95414462 0.95726496 0.92863002 0.97812773 0.97440273\n",
            " 0.91090909 0.97261411 0.98659966 0.98575021 0.98026316 0.94033413\n",
            " 0.9594478  0.98032506 0.97755611 0.77411003 0.93506494 0.97453907\n",
            " 0.90163934 0.45081967]\n"
          ]
        }
      ]
    },
    {
      "cell_type": "code",
      "metadata": {
        "id": "dUVdI3VDl51E",
        "colab": {
          "base_uri": "https://localhost:8080/"
        },
        "outputId": "cad265ce-fceb-484b-c402-acc3be9a5cf0"
      },
      "source": [
        "predict = model.predict(X_test_tfidf)\n",
        "acc = metrics.accuracy_score(y_test, predict)\n",
        "f1 = metrics.f1_score(y_test, predict, average = None)\n",
        "\n",
        "print(\"Test Acuuracy : {}\".format(acc))\n",
        "print(\"Test F1 Score : {}\".format(f1))"
      ],
      "execution_count": null,
      "outputs": [
        {
          "output_type": "stream",
          "name": "stdout",
          "text": [
            "Test Acuuracy : 0.7738980350504514\n",
            "Test F1 Score : [0.63117871 0.72       0.72778561 0.72104019 0.81309686 0.81643836\n",
            " 0.7958884  0.88135593 0.93450882 0.91071429 0.92917167 0.73583093\n",
            " 0.69732938 0.81907433 0.86559803 0.60728118 0.76286353 0.92225201\n",
            " 0.57977528 0.24390244]\n"
          ]
        }
      ]
    },
    {
      "cell_type": "markdown",
      "metadata": {
        "id": "m1b9hGlLAu49"
      },
      "source": [
        "### 시각화"
      ]
    },
    {
      "cell_type": "code",
      "metadata": {
        "id": "m11zMDG7mL4m"
      },
      "source": [
        "X, y = make_blobs(n_samples = 1000)"
      ],
      "execution_count": null,
      "outputs": []
    },
    {
      "cell_type": "code",
      "source": [
        "scaler = MinMaxScaler()\n",
        "X = scaler.fit_transform(X)"
      ],
      "metadata": {
        "id": "wrnFv9-WAkZx"
      },
      "execution_count": null,
      "outputs": []
    },
    {
      "cell_type": "code",
      "metadata": {
        "id": "OnhxioK8A6oP",
        "colab": {
          "base_uri": "https://localhost:8080/",
          "height": 280
        },
        "outputId": "ebb60b83-8272-48bb-c934-b38e24c96b61"
      },
      "source": [
        "plt.scatter(X[:,0], X[:,1], c = y, cmap = plt.cm.coolwarm, s = 20, edgecolors = 'k')"
      ],
      "execution_count": null,
      "outputs": [
        {
          "output_type": "execute_result",
          "data": {
            "text/plain": [
              "<matplotlib.collections.PathCollection at 0x7f485a0f3050>"
            ]
          },
          "metadata": {},
          "execution_count": 151
        },
        {
          "output_type": "display_data",
          "data": {
            "text/plain": [
              "<Figure size 432x288 with 1 Axes>"
            ],
            "image/png": "[encoded data removed]"
          },
          "metadata": {}
        }
      ]
    },
    {
      "cell_type": "code",
      "metadata": {
        "colab": {
          "base_uri": "https://localhost:8080/"
        },
        "outputId": "7cb44703-c575-4646-cc00-5ac68494aec9",
        "id": "2kBUsYUyASXh"
      },
      "source": [
        "model = MultinomialNB()\n",
        "model.fit(X, y)"
      ],
      "execution_count": null,
      "outputs": [
        {
          "output_type": "execute_result",
          "data": {
            "text/plain": [
              "MultinomialNB()"
            ]
          },
          "metadata": {},
          "execution_count": 152
        }
      ]
    },
    {
      "cell_type": "code",
      "metadata": {
        "colab": {
          "base_uri": "https://localhost:8080/",
          "height": 280
        },
        "outputId": "793ee3a3-e80b-4dae-8651-45107536eeca",
        "id": "4Pb79CyRASXq"
      },
      "source": [
        "xx, yy = make_meshgrid(X[:,0], X[:,1])\n",
        "plot_contours(model, xx, yy, cmap = plt.cm.coolwarm, alpha = 0.8)\n",
        "plt.scatter(X[:,0], X[:,1], c = y, cmap = plt.cm.coolwarm, s = 20, edgecolors = 'k')"
      ],
      "execution_count": null,
      "outputs": [
        {
          "output_type": "execute_result",
          "data": {
            "text/plain": [
              "<matplotlib.collections.PathCollection at 0x7f485de81710>"
            ]
          },
          "metadata": {},
          "execution_count": 153
        },
        {
          "output_type": "display_data",
          "data": {
            "text/plain": [
              "<Figure size 432x288 with 1 Axes>"
            ],
            "image/png": "[encoded data removed]"
          },
          "metadata": {}
        }
      ]
    },
    {
      "cell_type": "code",
      "source": [
        ""
      ],
      "metadata": {
        "id": "Z5fqQA5aa6Yu"
      },
      "execution_count": null,
      "outputs": []
    }
  ]
}